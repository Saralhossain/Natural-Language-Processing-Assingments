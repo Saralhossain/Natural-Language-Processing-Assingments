{
 "cells": [
  {
   "cell_type": "code",
   "execution_count": 83,
   "id": "7b8203c4",
   "metadata": {},
   "outputs": [],
   "source": [
    "import nltk\n",
    "import regex\n",
    "from nltk.tokenize import sent_tokenize, word_tokenize\n",
    "from nltk.stem import PorterStemmer\n",
    "from nltk.stem import WordNetLemmatizer\n",
    "from nltk.corpus import stopwords\n",
    "from nltk.tokenize import word_tokenize\n",
    "from nltk.text import Text\n",
    "import wikipedia\n",
    "import requests\n",
    "from bs4 import BeautifulSoup\n",
    "import re\n",
    "import sys\n",
    "from collections import Counter\n",
    "from nltk.stem import PorterStemmer\n",
    "from operator import itemgetter\n",
    "from nltk.probability import FreqDist\n",
    "from nltk import pos_tag\n",
    "from nltk.corpus import wordnet as wn\n",
    "import matplotlib.pyplot as plt\n",
    "from nltk.corpus import gutenberg"
   ]
  },
  {
   "cell_type": "code",
   "execution_count": 84,
   "id": "561ccf6f",
   "metadata": {},
   "outputs": [],
   "source": [
    "response = requests.get(url=\"https://en.wikipedia.org/wiki/Abbas_ibn_Ali\",)"
   ]
  },
  {
   "cell_type": "code",
   "execution_count": 85,
   "id": "89e63e7b",
   "metadata": {},
   "outputs": [
    {
     "name": "stdout",
     "output_type": "stream",
     "text": [
      "Abbas ibn Ali\n"
     ]
    }
   ],
   "source": [
    "soup = BeautifulSoup(response.content, 'html.parser')\n",
    "title = soup.find(id=\"firstHeading\")\n",
    "print(title.string)\n",
    "\n",
    "#My Name Is Alamdar Hussain which is name of Abbas ibn Ali(Son of Imam Ali (Abbas Alamdar))"
   ]
  },
  {
   "cell_type": "code",
   "execution_count": 86,
   "id": "52064b06",
   "metadata": {},
   "outputs": [],
   "source": [
    "page = \"\"\n",
    "temp = []\n",
    "paragraph = []\n",
    "\n",
    "\n",
    "for i in soup.select('p'):\n",
    "    temp.append(i.getText())                    #append on list \n",
    "#     print(temp)                               #COnvert link content into String\n",
    "for i in temp:\n",
    "    if (i != \"\\n\"):\n",
    "        paragraph.append(i)\n",
    "    \n",
    "# print(paragraph)    \n",
    "for i in paragraph:\n",
    "    page += i\n",
    "    \n",
    "page = re.sub(r\"[\\.]|[\\[][0-9].*?[\\]]\", '', page)\n",
    "# print(page)"
   ]
  },
  {
   "cell_type": "code",
   "execution_count": 87,
   "id": "3c34a95f",
   "metadata": {},
   "outputs": [
    {
     "name": "stdout",
     "output_type": "stream",
     "text": [
      "['Abbas ibn Ali', 'Contents', 'Birth and early life[edit]', 'Battle of Siffin[edit]', 'Battle of Karbala[edit]', 'Death[edit]', 'Descendants[edit]', 'Titles[edit]', 'Horse of Abbas[edit]', 'In Bektashism[edit]', 'See also[edit]', 'Bibliography[edit]', 'References[edit]', 'External links[edit]', 'Navigation menu', '\\nPersonal tools\\n', '\\nNamespaces\\n', '\\nViews\\n', '\\nSearch\\n', '\\nNavigation\\n', '\\nContribute\\n', '\\nTools\\n', '\\nPrint/export\\n', '\\nIn other projects\\n', '\\nLanguages\\n']\n"
     ]
    }
   ],
   "source": [
    "Heading = soup.find_all(['h1', 'h2','h3','h4','h5','h6'])\n",
    "heading_List = []\n",
    "for head in Heading:                                            #All the Headings h1,h2,h3 ..... h6\n",
    "    heading_List.append(head.getText())\n",
    "    \n",
    "print(heading_List)"
   ]
  },
  {
   "cell_type": "code",
   "execution_count": 88,
   "id": "a23d964e",
   "metadata": {},
   "outputs": [
    {
     "name": "stdout",
     "output_type": "stream",
     "text": [
      "others\n",
      "in terms of ihsan\n",
      "al-abbas ibn ali ibn abi talib (arabic: ٱلْعَبَّاس ٱبْن عَلِيّ ٱبْن أَبِي طَالِب, romanized: al-ʿabbās ibn ʿalīy ibn ʾabī ṭālib; 15 may 647 – 10 october 680), also known as abu al-fadl (arabic: أَبُو ٱلْفَضْل) and qamar bani hashim (arabic: قَمَر بَنِي هَاشِم, lit 'moon of banu hashim'</ref> was a son of ali (the muslim caliph and imam) and fatima bint hizam, commonly known as umm al-banin (arabic: أُمّ ٱلْبَنِين, lit 'mother of the sons')\n",
      "abbas is highly revered in islam for his loyalty to his brother husayn ibn ali and his role in the battle of karbala in which he was the standard-bearer for the ahl al-bayt abbas is buried in the al-abbas shrine in karbala, iraq, where he was killed during the battle of karbala on the day of ashura he was praised for his handsome looks and was also well known in the arab community for his courage, bravery, strength and ferocity as a warrior ibn manzur narrates in his al-ayn that al-abbas was the lion that other lions feared as a testament to his accolades as a warrior sheikh at-turaihi describes abbas's appearance as resembling an unshakable mountain, with his heart firmly rooted, due to his qualities as a unique horseman and a fearless hero\n",
      "abbas was born in the month of sha'ban in the year 26 ah (approximately may 647 ce) in the city of medina to ali and umm al-banin abbas had three full brothers, abd allah, ja'far and uthman abbas married a distant cousin named lubaba bint ubayd allah ibn abbas they had three sons named fadl, muhammad, and ubayd allah his mother would recite famous lines of poetry in supplication to ward off the evil of those who envied him\n",
      "abbas debuted as a soldier in the battle of siffin, when he was about (8-13) years  one of the main conflicts of the struggle between abbas's father, ali, and mu'awiya in 657 wearing the clothes of his father, who was known to be a great warrior, abbas killed many enemy soldiers muawiya's forces actually mistook him for ali therefore, when ali appeared on the battlefield, muawiya's soldiers were astonished to see him and confused about the identity of the other soldier ali then introduced abbas by saying:\n",
      "he is abbas, the moon of the hashimitesabbas was trained by his father and his elder brother hasan ibn ali in the art of battle, which may be one reason he resembled his father on the battlefield when describing his fighting on the battlefield, many historians call him a furious lion because of his courage, fearlessness and strength as an attacker  abbas then became the trainer of most of his elder brothers' sons in the art of battle an example of this is the courage of ali al-akbar, son of husayn ibn ali he also taught qasim ibn hasan, awn ibn abd allah ibn ja'far and muhammad ibn abd allah ibn ja'far\n",
      "abbas showed his loyalty to husayn at the battle of karbala after succeeding his father mu'awiya i as caliph, yazid i demanded that husayn pledge allegiance to him, but husayn refused, saying:\n",
      "yazid is a person who kills people without cause, and an individual like me doesn't pledge allegiance to someone like himas yazid's behaviours were (and still are) prohibited in islam, if husayn had pledged allegiance to yazid, his act would have ruined the basics of islam husayn's elder brother hasan ibn ali had made a pact, that the ahl al-bayt would be responsible for religious decisions and would not interfere in other matters husayn wanted to do what had been agreed upon, but yazid i wanted to take total control\n",
      "with the help of ubayd allah, yazid invited him to come to kufa and guide them on the right path, an invitation that was accepted by husayn however, it was said that the letters were actually sent by the people of kufa who later betrayed him when the body of muslim ibn aqil (husayn's messenger to kufa) was thrown from a building in the centre of kufa by yazid's army while the people of kufa stood silent\n",
      "in 60 ah (680), husayn left medina for mecca with a small group of companions and family members to travel to kufa he sent his cousin, muslim ibn aqil, on ahead to see how he would be received and then he could make his decision to enter kufa based on the advice of his cousin but, by the time husayn arrived near kufa, his cousin had been killed\n",
      "on the way to kufa, husayn and his group were intercepted they were forced to detour and arrived in karbala on the 2 muharram, 61 ah husayn's camp was surrounded and cut off from the euphrates river the camp ran out of water on the 7 muharram\n",
      "apart of being the \"standard and flag bearer\" of husayn ibn ali's army, abbas was asked by the thirsty children of the ahl al-bayt to bring water from the river the euphrates river was occupied by yazid i's army to prevent the camp of husayn from getting water abbas was only allowed to take a defensive role because his brother husayn didn't want him to fight he was only allowed to get water \n",
      "eventually, abbas went to the river to get water for the children in husayn's camp   however, on the way back, the enemy soldiers afraid of abbas first started showering arrows on him one which pierced one of his eyes and then seeing him vulnerable they moved forward and cut off one of his hands (while he was mounted on the horse) while he tried to ward them off and then later cut the other one, and then one arrow struck the mashki, or the water jug, and he fell from the horse face first and cried out his last salutations to his imam, husaynhearing his voice husayn rushed towards the euphrates where abbas lay wounded and on the verge of death husayn reached abbas and lay his brother’s head in his lap as abbas breathed his last abbas before dying had asked his brother and leader husayn to not take his body back to the tents for his sisters and the women would be inconsolable (is also said that he was ashamed for he could not bring water to the thirsty children who were waiting hopefully for his return and some water) abbas died on friday, 10 muharram, 61 ah, near the bank of the river euphrates later,his body was decapitated and the head was shown the spikes and paraded with the other martyrs of karbala\n",
      "hence, he is called the \"hero of the euphrates\" (arabic: بطل العلقمي) shia muslims mourn the deaths of all those who fell at the battle of karbala with husayn in the islamic month of muharram, mainly in the first ten days of the month abbas's death is generally commemorated on the eighth night of muharram fadl ibn abbas and qasim ibn abbas also laid down their lives in karbala ubayd allah ibn abbas lived to continue the lineage of abbas with five sons of his own\n",
      "abbas was buried at the spot where he fell from his horse in karbala, iraq the al-abbas shrine was built around his grave, at which millions of pilgrims pay homage every year\n",
      "abbas ibn ali had five sons: ubayd allah, fadl, hasan, qasim and muhammad; and also 2 daughters ibn shahrashub, a prominent historian, recorded that: \"muhammad ibn abbas was martyred in karbala with his father\" the mother of ubayd allah and fadl was lubaba bint ubayd allah ibn abbas genealogists consider that the progeny of abbas came from his son ubayd allah shaykh al-futouni, however, mentioned that hasan ibn abbas also had sons and descendants ubayd allah ibn abbas, who died in 155 ah, was a celebrated scholar known for his handsomeness, perfect morality and fine personality he had three wives\n",
      "ali ibn husayn zayn al-abidin, had great respect for his uncle abbas he often wept when his eyes fell on ubayd allah, explaining that he reminded him of his father's heroic and tragic exploit on that day in karbala\n",
      "abd allah awn was an 11th century descendant of abbas who ruled herat he was also a sufi, muslim preacher and a religious scholar\n",
      "abbas is known as abu al-fadl (ابوالفضل), meaning the father of heavenly graces and/or the father of the graceful manner abbas was a chivalrous and loyal companion to his half-brother husayn \n",
      "abbas ibn ali is also known asqamar banu hashim, meaning the moon of the hashim clan\n",
      "he is also known as ghazi (غازی), meaning \"soldier who returns successfully from the battle\" although abbas was killed at karbala, he is known as alamdar because the flag (alam) bearer is known as alamdar abbas was not given permission to carry a sword by his brother to get water for the children in the camps he was provided with a spear and a horse by his brother husayn the tradition(s) narrates that: \"ghazi cleared all the forces of yazid with just a spear and made it to the river (euphrates) and filled the water in the water carrying bag (mashkeza) he then started heading back to the camp this time, the army knew they could not stop him in hand to hand combat, so they shot arrows towards the arm in which he was holding the mashkeza when one of his arms got detached by the arrow, he started to carry it with the other arm; afterwards, that arm was targeted and also was cut off then, he held the mashkeza with his teeth and continued heading back the enemies pointed the arrows at the mashkeza in his mouth, and when that mahskeza got attacked and the water spilled out, they started shooting arrows at abbas the traditions say that the number of arrows were so numerous that ghazi abbas's body did not land on the ground, but was instead on top of the arrows (in between the ground and the sky) - and when his brother husayn came towards him, abbas said: \"i am sorry and ashamed for not fulfilling my promise\", as he promised husayn's young daughter that he will get the water to her husayn, with tears in his eyes and a heavy heart, said his final good-bye to his half brother abbas\n",
      "abbas was given a horse named \"ashal\" (' light and radiance ') shia sources say that this horse was used by muhammad and ali and that this horse was presented to muhammad by the king of yemen, sayf ibn dhi yazan, through abd al-muttalib the king considered the horse to be very important, and its superiority over other horses was evident by the fact that its genealogical tree was also maintained it was initially named \"murtajiz\", which comes from the arabic name \"rijiz\" meaning thunder (lightning)\n",
      "according to the traditions of the bektashi order, a sufi community based primarily in albania, abbas ibn ali (albanian: abaz aliu) went to albania on a white horse to save it from the barbarians, and continues to return to mount tomorr in albania for five days (august 20–25) each year, during which animal sacrifices are made and homage is paid to abbas ibn ali during these five days, bektashi pilgrims visit the abbas ali türbe, a mausoleum (albanian: mekam) believed to house the remains of abbas ibn ali the mausoleum is located on the southern peak of mount tomorr, which was originally constructed in 1620 the mausoleum lies adjacent to the bektashi tekke on mount tomorr, which was built in 1916\n",
      "türbe of abbas ibn ali on mount tomorr\n",
      "türbe of abbas ibn ali on mount tomorr\n",
      "pilgrimage scene on 23 august 2014\n",
      "\n"
     ]
    }
   ],
   "source": [
    "lowerCase = page.lower()                        # WHOLE PAGE TO LOWERCASE\n",
    "print(lowerCase)"
   ]
  },
  {
   "cell_type": "code",
   "execution_count": 89,
   "id": "1f99522d",
   "metadata": {},
   "outputs": [
    {
     "name": "stdout",
     "output_type": "stream",
     "text": [
      "['Others', 'terms', 'Ihsan', 'Al-Abbas', 'ibn', 'Ali', 'ibn', 'Abi', 'Talib', '(', 'Arabic', ':', 'ٱلْعَبَّاس', 'ٱبْن', 'عَلِيّ', 'ٱبْن', 'أَبِي', 'طَالِب', ',', 'romanized', ':', 'al-ʿAbbās', 'ibn', 'ʿAlīy', 'ibn', 'ʾAbī', 'Ṭālib', ';', '15', 'May', '647', '–', '10', 'October', '680', ')', ',', 'also', 'known', 'Abu', 'al-Fadl', '(', 'Arabic', ':', 'أَبُو', 'ٱلْفَضْل', ')', 'Qamar', 'Bani', 'Hashim', '(', 'Arabic', ':', 'قَمَر', 'بَنِي', 'هَاشِم', ',', 'lit', \"'Moon\", 'Banu', 'Hashim', \"'\", '<', '/ref', '>', 'son', 'Ali', '(', 'Muslim', 'caliph', 'Imam', ')', 'Fatima', 'bint', 'Hizam', ',', 'commonly', 'known', 'Umm', 'al-Banin', '(', 'Arabic', ':', 'أُمّ', 'ٱلْبَنِين', ',', 'lit', \"'Mother\", 'Sons', \"'\", ')', 'Abbas', 'highly', 'revered', 'Islam', 'loyalty', 'brother', 'Husayn', 'ibn', 'Ali', 'role', 'Battle', 'Karbala', 'standard-bearer', 'Ahl', 'al-Bayt', 'Abbas', 'buried', 'Al-Abbas', 'Shrine', 'Karbala', ',', 'Iraq', ',', 'killed', 'Battle', 'Karbala', 'day', 'Ashura', 'praised', 'handsome', 'looks', 'also', 'well', 'known', 'Arab', 'community', 'courage', ',', 'bravery', ',', 'strength', 'ferocity', 'warrior', 'Ibn', 'Manzur', 'narrates', 'al-Ayn', 'Al-Abbas', 'lion', 'lions', 'feared', 'testament', 'accolades', 'warrior', 'Sheikh', 'at-Turaihi', 'describes', 'Abbas', \"'s\", 'appearance', 'resembling', 'unshakable', 'mountain', ',', 'heart', 'firmly', 'rooted', ',', 'due', 'qualities', 'unique', 'horseman', 'fearless', 'hero', 'Abbas', 'born', 'month', \"Sha'ban\", 'year', '26', 'AH', '(', 'approximately', 'May', '647', 'CE', ')', 'city', 'Medina', 'Ali', 'Umm', 'al-Banin', 'Abbas', 'three', 'full', 'brothers', ',', 'Abd', 'Allah', ',', \"Ja'far\", 'Uthman', 'Abbas', 'married', 'distant', 'cousin', 'named', 'Lubaba', 'bint', 'Ubayd', 'Allah', 'ibn', 'Abbas', 'three', 'sons', 'named', 'Fadl', ',', 'Muhammad', ',', 'Ubayd', 'Allah', 'mother', 'would', 'recite', 'famous', 'lines', 'poetry', 'supplication', 'ward', 'evil', 'envied', 'Abbas', 'debuted', 'soldier', 'Battle', 'Siffin', ',', '(', '8-13', ')', 'years', 'one', 'main', 'conflicts', 'struggle', 'Abbas', \"'s\", 'father', ',', 'Ali', ',', \"Mu'awiya\", '657', 'Wearing', 'clothes', 'father', ',', 'known', 'great', 'warrior', ',', 'Abbas', 'killed', 'many', 'enemy', 'soldiers', 'Muawiya', \"'s\", 'forces', 'actually', 'mistook', 'Ali', 'Therefore', ',', 'Ali', 'appeared', 'battlefield', ',', 'Muawiya', \"'s\", 'soldiers', 'astonished', 'see', 'confused', 'identity', 'soldier', 'Ali', 'introduced', 'Abbas', 'saying', ':', 'Abbas', ',', 'moon', 'HashimitesAbbas', 'trained', 'father', 'elder', 'brother', 'Hasan', 'ibn', 'Ali', 'art', 'battle', ',', 'may', 'one', 'reason', 'resembled', 'father', 'battlefield', 'describing', 'fighting', 'battlefield', ',', 'many', 'historians', 'call', 'furious', 'lion', 'courage', ',', 'fearlessness', 'strength', 'attacker', 'Abbas', 'became', 'trainer', 'elder', 'brothers', \"'\", 'sons', 'art', 'battle', 'example', 'courage', 'Ali', 'al-Akbar', ',', 'son', 'Husayn', 'ibn', 'Ali', 'also', 'taught', 'Qasim', 'ibn', 'Hasan', ',', 'Awn', 'ibn', 'Abd', 'Allah', 'ibn', \"Ja'far\", 'Muhammad', 'ibn', 'Abd', 'Allah', 'ibn', \"Ja'far\", 'Abbas', 'showed', 'loyalty', 'Husayn', 'Battle', 'Karbala', 'succeeding', 'father', \"Mu'awiya\", 'caliph', ',', 'Yazid', 'demanded', 'Husayn', 'pledge', 'allegiance', ',', 'Husayn', 'refused', ',', 'saying', ':', 'Yazid', 'person', 'kills', 'people', 'without', 'cause', ',', 'individual', 'like', \"n't\", 'pledge', 'allegiance', 'someone', 'like', 'himAs', 'Yazid', \"'s\", 'behaviours', '(', 'still', ')', 'prohibited', 'Islam', ',', 'Husayn', 'pledged', 'allegiance', 'Yazid', ',', 'act', 'would', 'ruined', 'basics', 'Islam', 'Husayn', \"'s\", 'elder', 'brother', 'Hasan', 'ibn', 'Ali', 'made', 'pact', ',', 'Ahl', 'al-Bayt', 'would', 'responsible', 'religious', 'decisions', 'would', 'interfere', 'matters', 'Husayn', 'wanted', 'agreed', 'upon', ',', 'Yazid', 'wanted', 'take', 'total', 'control', 'help', 'Ubayd', 'Allah', ',', 'Yazid', 'invited', 'come', 'Kufa', 'guide', 'right', 'path', ',', 'invitation', 'accepted', 'Husayn', 'However', ',', 'said', 'letters', 'actually', 'sent', 'people', 'Kufa', 'later', 'betrayed', 'body', 'Muslim', 'ibn', 'Aqil', '(', 'Husayn', \"'s\", 'messenger', 'Kufa', ')', 'thrown', 'building', 'centre', 'Kufa', 'Yazid', \"'s\", 'army', 'people', 'Kufa', 'stood', 'silent', '60', 'AH', '(', '680', ')', ',', 'Husayn', 'left', 'Medina', 'Mecca', 'small', 'group', 'companions', 'family', 'members', 'travel', 'Kufa', 'sent', 'cousin', ',', 'Muslim', 'ibn', 'Aqil', ',', 'ahead', 'see', 'would', 'received', 'could', 'make', 'decision', 'enter', 'Kufa', 'based', 'advice', 'cousin', ',', 'time', 'Husayn', 'arrived', 'near', 'Kufa', ',', 'cousin', 'killed', 'way', 'Kufa', ',', 'Husayn', 'group', 'intercepted', 'forced', 'detour', 'arrived', 'Karbala', '2', 'Muharram', ',', '61', 'AH', 'Husayn', \"'s\", 'camp', 'surrounded', 'cut', 'Euphrates', 'river', 'camp', 'ran', 'water', '7', 'Muharram', 'Apart', '``', 'standard', 'flag', 'bearer', \"''\", 'Husayn', 'ibn', 'Ali', \"'s\", 'army', ',', 'Abbas', 'asked', 'thirsty', 'children', 'Ahl', 'al-Bayt', 'bring', 'water', 'river', 'Euphrates', 'river', 'occupied', 'Yazid', \"'s\", 'army', 'prevent', 'camp', 'Husayn', 'getting', 'water', 'Abbas', 'allowed', 'take', 'defensive', 'role', 'brother', 'Husayn', \"n't\", 'want', 'fight', 'allowed', 'get', 'water', 'Eventually', ',', 'Abbas', 'went', 'river', 'get', 'water', 'children', 'Husayn', \"'s\", 'camp', 'However', ',', 'way', 'back', ',', 'enemy', 'soldiers', 'afraid', 'Abbas', 'first', 'started', 'showering', 'arrows', 'one', 'pierced', 'one', 'eyes', 'seeing', 'vulnerable', 'moved', 'forward', 'cut', 'one', 'hands', '(', 'mounted', 'horse', ')', 'tried', 'ward', 'later', 'cut', 'one', ',', 'one', 'arrow', 'struck', 'Mashki', ',', 'water', 'jug', ',', 'fell', 'horse', 'face', 'first', 'cried', 'last', 'salutations', 'Imam', ',', 'HusaynHearing', 'voice', 'Husayn', 'rushed', 'towards', 'Euphrates', 'Abbas', 'lay', 'wounded', 'verge', 'death', 'Husayn', 'reached', 'Abbas', 'lay', 'brother', '’', 'head', 'lap', 'Abbas', 'breathed', 'last', 'Abbas', 'dying', 'asked', 'brother', 'leader', 'Husayn', 'take', 'body', 'back', 'tents', 'sisters', 'women', 'would', 'inconsolable', '(', 'also', 'said', 'ashamed', 'could', 'bring', 'water', 'thirsty', 'children', 'waiting', 'hopefully', 'return', 'water', ')', 'Abbas', 'died', 'Friday', ',', '10', 'Muharram', ',', '61', 'AH', ',', 'near', 'bank', 'river', 'Euphrates', 'Later', ',', 'body', 'decapitated', 'head', 'shown', 'spikes', 'paraded', 'martyrs', 'Karbala', 'Hence', ',', 'called', '``', 'Hero', 'Euphrates', \"''\", '(', 'Arabic', ':', 'بطل', 'العلقمي', ')', 'Shia', 'Muslims', 'mourn', 'deaths', 'fell', 'Battle', 'Karbala', 'Husayn', 'Islamic', 'month', 'Muharram', ',', 'mainly', 'first', 'ten', 'days', 'month', 'Abbas', \"'s\", 'death', 'generally', 'commemorated', 'eighth', 'night', 'Muharram', 'Fadl', 'ibn', 'Abbas', 'Qasim', 'ibn', 'Abbas', 'also', 'laid', 'lives', 'Karbala', 'Ubayd', 'Allah', 'ibn', 'Abbas', 'lived', 'continue', 'lineage', 'Abbas', 'five', 'sons', 'Abbas', 'buried', 'spot', 'fell', 'horse', 'Karbala', ',', 'Iraq', 'Al-Abbas', 'Shrine', 'built', 'around', 'grave', ',', 'millions', 'pilgrims', 'pay', 'homage', 'every', 'year', 'Abbas', 'ibn', 'Ali', 'five', 'sons', ':', 'Ubayd', 'Allah', ',', 'Fadl', ',', 'Hasan', ',', 'Qasim', 'Muhammad', ';', 'also', '2', 'daughters', 'Ibn', 'Shahrashub', ',', 'prominent', 'historian', ',', 'recorded', ':', '``', 'Muhammad', 'ibn', 'Abbas', 'martyred', 'Karbala', 'father', \"''\", 'mother', 'Ubayd', 'Allah', 'Fadl', 'Lubaba', 'bint', 'Ubayd', 'Allah', 'ibn', 'Abbas', 'Genealogists', 'consider', 'progeny', 'Abbas', 'came', 'son', 'Ubayd', 'Allah', 'Shaykh', 'al-Futouni', ',', 'however', ',', 'mentioned', 'Hasan', 'ibn', 'Abbas', 'also', 'sons', 'descendants', 'Ubayd', 'Allah', 'ibn', 'Abbas', ',', 'died', '155', 'AH', ',', 'celebrated', 'scholar', 'known', 'handsomeness', ',', 'perfect', 'morality', 'fine', 'personality', 'three', 'wives', 'Ali', 'ibn', 'Husayn', 'Zayn', 'al-Abidin', ',', 'great', 'respect', 'uncle', 'Abbas', 'often', 'wept', 'eyes', 'fell', 'Ubayd', 'Allah', ',', 'explaining', 'reminded', 'father', \"'s\", 'heroic', 'tragic', 'exploit', 'day', 'Karbala', 'Abd', 'Allah', 'Awn', '11th', 'century', 'descendant', 'Abbas', 'ruled', 'Herat', 'also', 'Sufi', ',', 'Muslim', 'preacher', 'religious', 'scholar', 'Abbas', 'known', 'Abu', 'al-Fadl', '(', 'ابوالفضل', ')', ',', 'meaning', 'father', 'heavenly', 'graces', 'and/or', 'father', 'graceful', 'manner', 'Abbas', 'chivalrous', 'loyal', 'companion', 'half-brother', 'Husayn', 'Abbas', 'ibn', 'Ali', 'also', 'known', 'asQamar', 'Banu', 'Hashim', ',', 'meaning', 'moon', 'Hashim', 'clan', 'also', 'known', 'Ghazi', '(', 'غازی', ')', ',', 'meaning', '``', 'soldier', 'returns', 'successfully', 'battle', \"''\", 'Although', 'Abbas', 'killed', 'Karbala', ',', 'known', 'Alamdar', 'flag', '(', 'alam', ')', 'bearer', 'known', 'Alamdar', 'Abbas', 'given', 'permission', 'carry', 'sword', 'brother', 'get', 'water', 'children', 'camps', 'provided', 'spear', 'horse', 'brother', 'Husayn', 'tradition', '(', ')', 'narrates', ':', '``', 'Ghazi', 'cleared', 'forces', 'Yazid', 'spear', 'made', 'river', '(', 'Euphrates', ')', 'filled', 'water', 'water', 'carrying', 'bag', '(', 'mashkeza', ')', 'started', 'heading', 'back', 'camp', 'time', ',', 'army', 'knew', 'could', 'stop', 'hand', 'hand', 'combat', ',', 'shot', 'arrows', 'towards', 'arm', 'holding', 'mashkeza', 'one', 'arms', 'got', 'detached', 'arrow', ',', 'started', 'carry', 'arm', ';', 'afterwards', ',', 'arm', 'targeted', 'also', 'cut', ',', 'held', 'mashkeza', 'teeth', 'continued', 'heading', 'back', 'enemies', 'pointed', 'arrows', 'mashkeza', 'mouth', ',', 'mahskeza', 'got', 'attacked', 'water', 'spilled', ',', 'started', 'shooting', 'arrows', 'Abbas', 'traditions', 'say', 'number', 'arrows', 'numerous', 'Ghazi', 'Abbas', \"'s\", 'body', 'land', 'ground', ',', 'instead', 'top', 'arrows', '(', 'ground', 'sky', ')', '-', 'brother', 'Husayn', 'came', 'towards', ',', 'Abbas', 'said', ':', '``', 'sorry', 'ashamed', 'fulfilling', 'promise', \"''\", ',', 'promised', 'Husayn', \"'s\", 'young', 'daughter', 'get', 'water', 'Husayn', ',', 'tears', 'eyes', 'heavy', 'heart', ',', 'said', 'final', 'good-bye', 'half', 'brother', 'Abbas', 'Abbas', 'given', 'horse', 'named', '``', 'Ashal', \"''\", '(', \"'\", 'Light', 'Radiance', \"'\", ')', 'Shia', 'sources', 'say', 'horse', 'used', 'Muhammad', 'Ali', 'horse', 'presented', 'Muhammad', 'King', 'Yemen', ',', 'Sayf', 'ibn', 'Dhi', 'Yazan', ',', 'Abd', 'al-Muttalib', 'king', 'considered', 'horse', 'important', ',', 'superiority', 'horses', 'evident', 'fact', 'genealogical', 'tree', 'also', 'maintained', 'initially', 'named', '``', 'Murtajiz', \"''\", ',', 'comes', 'Arabic', 'name', '``', 'Rijiz', \"''\", 'meaning', 'thunder', '(', 'lightning', ')', 'According', 'traditions', 'Bektashi', 'Order', ',', 'Sufi', 'community', 'based', 'primarily', 'Albania', ',', 'Abbas', 'ibn', 'Ali', '(', 'Albanian', ':', 'Abaz', 'Aliu', ')', 'went', 'Albania', 'white', 'horse', 'save', 'barbarians', ',', 'continues', 'return', 'Mount', 'Tomorr', 'Albania', 'five', 'days', '(', 'August', '20–25', ')', 'year', ',', 'animal', 'sacrifices', 'made', 'homage', 'paid', 'Abbas', 'ibn', 'Ali', 'five', 'days', ',', 'Bektashi', 'pilgrims', 'visit', 'Abbas', 'Ali', 'Türbe', ',', 'mausoleum', '(', 'Albanian', ':', 'mekam', ')', 'believed', 'house', 'remains', 'Abbas', 'ibn', 'Ali', 'mausoleum', 'located', 'southern', 'peak', 'Mount', 'Tomorr', ',', 'originally', 'constructed', '1620', 'mausoleum', 'lies', 'adjacent', 'Bektashi', 'tekke', 'Mount', 'Tomorr', ',', 'built', '1916', 'Türbe', 'Abbas', 'ibn', 'Ali', 'Mount', 'Tomorr', 'Türbe', 'Abbas', 'ibn', 'Ali', 'Mount', 'Tomorr', 'Pilgrimage', 'scene', '23', 'August', '2014']\n"
     ]
    }
   ],
   "source": [
    "from nltk.corpus import stopwords\n",
    "from nltk.tokenize import word_tokenize\n",
    "\n",
    "stop_words = set(stopwords.words(\"english\"))\n",
    "\n",
    "Stop_List = []                                                     # REMOVING all the STOP WORDS\n",
    "text = nltk.word_tokenize(page)\n",
    "for word in text:\n",
    "    if word.casefold() not in stop_words:\n",
    "        Stop_List.append(word)\n",
    "\n",
    "print(Stop_List)"
   ]
  },
  {
   "cell_type": "code",
   "execution_count": 90,
   "id": "4aa3578d",
   "metadata": {},
   "outputs": [
    {
     "name": "stdout",
     "output_type": "stream",
     "text": [
      "[('Others\\nIn', 'NNP'), ('terms', 'NNS'), ('of', 'IN'), ('Ihsan\\nAl-Abbas', 'NNP'), ('ibn', 'NN'), ('Ali', 'NNP'), ('ibn', 'NN'), ('Abi', 'NNP'), ('Talib', 'NNP'), ('(Arabic:', 'NNP'), ('ٱلْعَبَّاس', 'NNP'), ('ٱبْن', 'NNP'), ('عَلِيّ', 'NNP'), ('ٱبْن', 'NNP'), ('أَبِي', 'NNP'), ('طَالِب,', 'NNP'), ('romanized:\\xa0al-ʿAbbās', 'JJ'), ('ibn', 'NN'), ('ʿAlīy', 'NNP'), ('ibn', 'NN'), ('ʾAbī', 'NNP'), ('Ṭālib;', 'NNP'), ('15', 'CD'), ('May', 'NNP'), ('647', 'CD'), ('–', 'VBD'), ('10\\xa0October', 'CD'), ('680),', 'CD'), ('also', 'RB'), ('known', 'VBN'), ('as', 'IN'), ('Abu', 'NNP'), ('al-Fadl', 'JJ'), ('(Arabic:', 'NNP'), ('أَبُو', 'NNP'), ('ٱلْفَضْل)', 'NNP'), ('and', 'CC'), ('Qamar', 'NNP'), ('Bani', 'NNP'), ('Hashim', 'NNP'), ('(Arabic:', 'NNP'), ('قَمَر', 'NNP'), ('بَنِي', 'NNP'), ('هَاشِم,', 'NNP'), (\"lit\\u2009'Moon\", 'NN'), ('of', 'IN'), ('Banu', 'NNP'), (\"Hashim'</ref>\", 'NNP'), ('was', 'VBD'), ('a', 'DT'), ('son', 'NN'), ('of', 'IN'), ('Ali', 'NNP'), ('(the', 'NNP'), ('Muslim', 'NNP'), ('caliph', 'NN'), ('and', 'CC'), ('Imam)', 'NNP'), ('and', 'CC'), ('Fatima', 'NNP'), ('bint', 'NN'), ('Hizam,', 'NNP'), ('commonly', 'RB'), ('known', 'VBN'), ('as', 'IN'), ('Umm', 'NNP'), ('al-Banin', 'JJ'), ('(Arabic:', 'NNP'), ('أُمّ', 'NNP'), ('ٱلْبَنِين,', 'NNP'), (\"lit\\u2009'Mother\", 'NN'), ('of', 'IN'), ('the', 'DT'), (\"Sons')\\nAbbas\", 'NNP'), ('is', 'VBZ'), ('highly', 'RB'), ('revered', 'VBN'), ('in', 'IN'), ('Islam', 'NNP'), ('for', 'IN'), ('his', 'PRP$'), ('loyalty', 'NN'), ('to', 'TO'), ('his', 'PRP$'), ('brother', 'NN'), ('Husayn', 'NNP'), ('ibn', 'NN'), ('Ali', 'NNP'), ('and', 'CC'), ('his', 'PRP$'), ('role', 'NN'), ('in', 'IN'), ('the', 'DT'), ('Battle', 'NNP'), ('of', 'IN'), ('Karbala', 'NNP'), ('in', 'IN'), ('which', 'WDT'), ('he', 'PRP'), ('was', 'VBD'), ('the', 'DT'), ('standard-bearer', 'NN'), ('for', 'IN'), ('the', 'DT'), ('Ahl', 'NNP'), ('al-Bayt', 'JJ'), ('Abbas', 'NNP'), ('is', 'VBZ'), ('buried', 'VBN'), ('in', 'IN'), ('the', 'DT'), ('Al-Abbas', 'NNP'), ('Shrine', 'NNP'), ('in', 'IN'), ('Karbala,', 'NNP'), ('Iraq,', 'NNP'), ('where', 'WRB'), ('he', 'PRP'), ('was', 'VBD'), ('killed', 'VBN'), ('during', 'IN'), ('the', 'DT'), ('Battle', 'NNP'), ('of', 'IN'), ('Karbala', 'NNP'), ('on', 'IN'), ('the', 'DT'), ('day', 'NN'), ('of', 'IN'), ('Ashura', 'NNP'), ('He', 'PRP'), ('was', 'VBD'), ('praised', 'VBN'), ('for', 'IN'), ('his', 'PRP$'), ('handsome', 'JJ'), ('looks', 'NNS'), ('and', 'CC'), ('was', 'VBD'), ('also', 'RB'), ('well', 'RB'), ('known', 'VBN'), ('in', 'IN'), ('the', 'DT'), ('Arab', 'NNP'), ('community', 'NN'), ('for', 'IN'), ('his', 'PRP$'), ('courage,', 'NN'), ('bravery,', 'NN'), ('strength', 'NN'), ('and', 'CC'), ('ferocity', 'NN'), ('as', 'IN'), ('a', 'DT'), ('warrior', 'JJ'), ('Ibn', 'NNP'), ('Manzur', 'NNP'), ('narrates', 'VBZ'), ('in', 'IN'), ('his', 'PRP$'), ('al-Ayn', 'JJ'), ('that', 'IN'), ('Al-Abbas', 'NNP'), ('was', 'VBD'), ('the', 'DT'), ('lion', 'NN'), ('that', 'IN'), ('other', 'JJ'), ('lions', 'NNS'), ('feared', 'VBN'), ('as', 'IN'), ('a', 'DT'), ('testament', 'NN'), ('to', 'TO'), ('his', 'PRP$'), ('accolades', 'NNS'), ('as', 'IN'), ('a', 'DT'), ('warrior', 'JJ'), ('Sheikh', 'NNP'), ('at-Turaihi', 'NN'), ('describes', 'NNS'), (\"Abbas's\", 'NNP'), ('appearance', 'NN'), ('as', 'IN'), ('resembling', 'VBG'), ('an', 'DT'), ('unshakable', 'JJ'), ('mountain,', 'NN'), ('with', 'IN'), ('his', 'PRP$'), ('heart', 'NN'), ('firmly', 'RB'), ('rooted,', 'VBD'), ('due', 'JJ'), ('to', 'TO'), ('his', 'PRP$'), ('qualities', 'NNS'), ('as', 'IN'), ('a', 'DT'), ('unique', 'JJ'), ('horseman', 'NN'), ('and', 'CC'), ('a', 'DT'), ('fearless', 'JJ'), ('hero\\nAbbas', 'NN'), ('was', 'VBD'), ('born', 'VBN'), ('in', 'IN'), ('the', 'DT'), ('month', 'NN'), ('of', 'IN'), (\"Sha'ban\", 'NNP'), ('in', 'IN'), ('the', 'DT'), ('year', 'NN'), ('26', 'CD'), ('AH', 'NNP'), ('(approximately', 'RB'), ('May', 'NNP'), ('647', 'CD'), ('CE)', 'NNP'), ('in', 'IN'), ('the', 'DT'), ('city', 'NN'), ('of', 'IN'), ('Medina', 'NNP'), ('to', 'TO'), ('Ali', 'NNP'), ('and', 'CC'), ('Umm', 'NNP'), ('al-Banin', 'JJ'), ('Abbas', 'NNP'), ('had', 'VBD'), ('three', 'CD'), ('full', 'JJ'), ('brothers,\\xa0Abd', 'NN'), ('Allah,', 'NNP'), (\"Ja'far\", 'NNP'), ('and', 'CC'), ('Uthman', 'NNP'), ('Abbas', 'NNP'), ('married', 'VBD'), ('a', 'DT'), ('distant', 'JJ'), ('cousin', 'NN'), ('named', 'VBN'), ('Lubaba', 'NNP'), ('bint', 'NN'), ('Ubayd', 'NNP'), ('Allah', 'NNP'), ('ibn', 'VBP'), ('Abbas', 'NNP'), ('They', 'PRP'), ('had', 'VBD'), ('three', 'CD'), ('sons', 'NNS'), ('named', 'VBN'), ('Fadl,', 'NNP'), ('Muhammad,', 'NNP'), ('and', 'CC'), ('Ubayd', 'NNP'), ('Allah', 'NNP'), ('His', 'PRP$'), ('mother', 'NN'), ('would', 'MD'), ('recite', 'VB'), ('famous', 'JJ'), ('lines', 'NNS'), ('of', 'IN'), ('poetry', 'NN'), ('in', 'IN'), ('supplication', 'NN'), ('to', 'TO'), ('ward', 'VB'), ('off', 'RP'), ('the', 'DT'), ('evil', 'NN'), ('of', 'IN'), ('those', 'DT'), ('who', 'WP'), ('envied', 'VBD'), ('him\\nAbbas', 'NN'), ('debuted', 'VBN'), ('as', 'IN'), ('a', 'DT'), ('soldier', 'NN'), ('in', 'IN'), ('the', 'DT'), ('Battle', 'NNP'), ('of', 'IN'), ('Siffin,', 'NNP'), ('when', 'WRB'), ('he', 'PRP'), ('was', 'VBD'), ('about', 'IN'), ('(8-13)', 'JJ'), ('years', 'NNS'), ('', 'VBP'), ('one', 'CD'), ('of', 'IN'), ('the', 'DT'), ('main', 'JJ'), ('conflicts', 'NNS'), ('of', 'IN'), ('the', 'DT'), ('struggle', 'NN'), ('between', 'IN'), (\"Abbas's\", 'NNP'), ('father,', 'VBP'), ('Ali,', 'NNP'), ('and', 'CC'), (\"Mu'awiya\", 'NNP'), ('in', 'IN'), ('657', 'CD'), ('Wearing', 'VBG'), ('the', 'DT'), ('clothes', 'NNS'), ('of', 'IN'), ('his', 'PRP$'), ('father,', 'NN'), ('who', 'WP'), ('was', 'VBD'), ('known', 'VBN'), ('to', 'TO'), ('be', 'VB'), ('a', 'DT'), ('great', 'JJ'), ('warrior,', 'NN'), ('Abbas', 'NNP'), ('killed', 'VBD'), ('many', 'JJ'), ('enemy', 'NN'), ('soldiers', 'NNS'), (\"Muawiya's\", 'NNP'), ('forces', 'NNS'), ('actually', 'RB'), ('mistook', 'VBP'), ('him', 'PRP'), ('for', 'IN'), ('Ali', 'NNP'), ('Therefore,', 'NNP'), ('when', 'WRB'), ('Ali', 'NNP'), ('appeared', 'VBD'), ('on', 'IN'), ('the', 'DT'), ('battlefield,', 'NN'), (\"Muawiya's\", 'NNP'), ('soldiers', 'NNS'), ('were', 'VBD'), ('astonished', 'VBN'), ('to', 'TO'), ('see', 'VB'), ('him', 'PRP'), ('and', 'CC'), ('confused', 'VBD'), ('about', 'IN'), ('the', 'DT'), ('identity', 'NN'), ('of', 'IN'), ('the', 'DT'), ('other', 'JJ'), ('soldier', 'JJR'), ('Ali', 'NNP'), ('then', 'RB'), ('introduced', 'VBD'), ('Abbas', 'NNP'), ('by', 'IN'), ('saying:\\nHe', 'NN'), ('is', 'VBZ'), ('Abbas,', 'NNP'), ('the', 'DT'), ('moon', 'NN'), ('of', 'IN'), ('the', 'DT'), ('HashimitesAbbas', 'NNP'), ('was', 'VBD'), ('trained', 'VBN'), ('by', 'IN'), ('his', 'PRP$'), ('father', 'NN'), ('and', 'CC'), ('his', 'PRP$'), ('elder', 'NN'), ('brother', 'NN'), ('Hasan', 'NNP'), ('ibn', 'NN'), ('Ali', 'NNP'), ('in', 'IN'), ('the', 'DT'), ('art', 'NN'), ('of', 'IN'), ('battle,', 'NN'), ('which', 'WDT'), ('may', 'MD'), ('be', 'VB'), ('one', 'CD'), ('reason', 'NN'), ('he', 'PRP'), ('resembled', 'VBD'), ('his', 'PRP$'), ('father', 'NN'), ('on', 'IN'), ('the', 'DT'), ('battlefield', 'NN'), ('When', 'WRB'), ('describing', 'VBG'), ('his', 'PRP$'), ('fighting', 'VBG'), ('on', 'IN'), ('the', 'DT'), ('battlefield,', 'NN'), ('many', 'JJ'), ('historians', 'NNS'), ('call', 'VBP'), ('him', 'PRP'), ('a', 'DT'), ('furious', 'JJ'), ('lion', 'NN'), ('because', 'IN'), ('of', 'IN'), ('his', 'PRP$'), ('courage,', 'NN'), ('fearlessness', 'NN'), ('and', 'CC'), ('strength', 'NN'), ('as', 'IN'), ('an', 'DT'), ('attacker', 'NN'), ('', 'NN'), ('Abbas', 'NNP'), ('then', 'RB'), ('became', 'VBD'), ('the', 'DT'), ('trainer', 'NN'), ('of', 'IN'), ('most', 'JJS'), ('of', 'IN'), ('his', 'PRP$'), ('elder', 'NN'), (\"brothers'\", 'NN'), ('sons', 'NNS'), ('in', 'IN'), ('the', 'DT'), ('art', 'NN'), ('of', 'IN'), ('battle', 'NN'), ('An', 'DT'), ('example', 'NN'), ('of', 'IN'), ('this', 'DT'), ('is', 'VBZ'), ('the', 'DT'), ('courage', 'NN'), ('of', 'IN'), ('Ali', 'NNP'), ('al-Akbar,', 'JJ'), ('son', 'NN'), ('of', 'IN'), ('Husayn', 'NNP'), ('ibn', 'NN'), ('Ali', 'NNP'), ('He', 'PRP'), ('also', 'RB'), ('taught', 'VBD'), ('Qasim', 'NNP'), ('ibn', 'NN'), ('Hasan,', 'NNP'), ('Awn', 'NNP'), ('ibn', 'NN'), ('Abd', 'NNP'), ('Allah', 'NNP'), ('ibn', 'NN'), (\"Ja'far\", 'NNP'), ('and', 'CC'), ('Muhammad', 'NNP'), ('ibn', 'VBP'), ('Abd', 'NNP'), ('Allah', 'NNP'), ('ibn', 'NN'), (\"Ja'far\\nAbbas\", 'NNP'), ('showed', 'VBD'), ('his', 'PRP$'), ('loyalty', 'NN'), ('to', 'TO'), ('Husayn', 'NNP'), ('at', 'IN'), ('the', 'DT'), ('Battle', 'NNP'), ('of', 'IN'), ('Karbala', 'NNP'), ('After', 'IN'), ('succeeding', 'VBG'), ('his', 'PRP$'), ('father', 'NN'), (\"Mu'awiya\", 'NNP'), ('I', 'PRP'), ('as', 'IN'), ('caliph,', 'NN'), ('Yazid', 'NNP'), ('I', 'PRP'), ('demanded', 'VBD'), ('that', 'IN'), ('Husayn', 'NNP'), ('pledge', 'NN'), ('allegiance', 'NN'), ('to', 'TO'), ('him,', 'VB'), ('but', 'CC'), ('Husayn', 'NNP'), ('refused,', 'VBP'), ('saying:\\nYazid', 'NN'), ('is', 'VBZ'), ('a', 'DT'), ('person', 'NN'), ('who', 'WP'), ('kills', 'VBZ'), ('people', 'NNS'), ('without', 'IN'), ('cause,', 'NN'), ('and', 'CC'), ('an', 'DT'), ('individual', 'NN'), ('like', 'IN'), ('me', 'PRP'), (\"doesn't\", 'VBP'), ('pledge', 'JJ'), ('allegiance', 'NN'), ('to', 'TO'), ('someone', 'NN'), ('like', 'IN'), ('himAs', 'NN'), (\"Yazid's\", 'NNP'), ('behaviours', 'NNS'), ('were', 'VBD'), ('(and', 'NNP'), ('still', 'RB'), ('are)', 'RB'), ('prohibited', 'VBN'), ('in', 'IN'), ('Islam,', 'NNP'), ('if', 'IN'), ('Husayn', 'NNP'), ('had', 'VBD'), ('pledged', 'VBN'), ('allegiance', 'NN'), ('to', 'TO'), ('Yazid,', 'VB'), ('his', 'PRP$'), ('act', 'NN'), ('would', 'MD'), ('have', 'VB'), ('ruined', 'VBN'), ('the', 'DT'), ('basics', 'NNS'), ('of', 'IN'), ('Islam', 'NNP'), (\"Husayn's\", 'NNP'), ('elder', 'NN'), ('brother', 'NN'), ('Hasan', 'NNP'), ('ibn', 'NN'), ('Ali', 'NNP'), ('had', 'VBD'), ('made', 'VBN'), ('a', 'DT'), ('pact,', 'NN'), ('that', 'IN'), ('the', 'DT'), ('Ahl', 'NNP'), ('al-Bayt', 'NN'), ('would', 'MD'), ('be', 'VB'), ('responsible', 'JJ'), ('for', 'IN'), ('religious', 'JJ'), ('decisions', 'NNS'), ('and', 'CC'), ('would', 'MD'), ('not', 'RB'), ('interfere', 'VB'), ('in', 'IN'), ('other', 'JJ'), ('matters', 'NNS'), ('Husayn', 'NNP'), ('wanted', 'VBD'), ('to', 'TO'), ('do', 'VB'), ('what', 'WP'), ('had', 'VBD'), ('been', 'VBN'), ('agreed', 'VBN'), ('upon,', 'JJ'), ('but', 'CC'), ('Yazid\\xa0I', 'NNP'), ('wanted', 'VBD'), ('to', 'TO'), ('take', 'VB'), ('total', 'JJ'), ('control\\nWith', 'NN'), ('the', 'DT'), ('help', 'NN'), ('of', 'IN'), ('Ubayd', 'NNP'), ('Allah,', 'NNP'), ('Yazid', 'NNP'), ('invited', 'VBD'), ('him', 'PRP'), ('to', 'TO'), ('come', 'VB'), ('to', 'TO'), ('Kufa', 'NNP'), ('and', 'CC'), ('guide', 'VB'), ('them', 'PRP'), ('on', 'IN'), ('the', 'DT'), ('right', 'NN'), ('path,', 'NN'), ('an', 'DT'), ('invitation', 'NN'), ('that', 'WDT'), ('was', 'VBD'), ('accepted', 'VBN'), ('by', 'IN'), ('Husayn', 'NNP'), ('However,', 'NNP'), ('it', 'PRP'), ('was', 'VBD'), ('said', 'VBD'), ('that', 'IN'), ('the', 'DT'), ('letters', 'NNS'), ('were', 'VBD'), ('actually', 'RB'), ('sent', 'VBN'), ('by', 'IN'), ('the', 'DT'), ('people', 'NNS'), ('of', 'IN'), ('Kufa', 'NNP'), ('who', 'WP'), ('later', 'RB'), ('betrayed', 'VBD'), ('him', 'PRP'), ('when', 'WRB'), ('the', 'DT'), ('body', 'NN'), ('of', 'IN'), ('Muslim', 'NNP'), ('ibn', 'NN'), ('Aqil', 'NNP'), (\"(Husayn's\", 'NNP'), ('messenger', 'NN'), ('to', 'TO'), ('Kufa)', 'NNP'), ('was', 'VBD'), ('thrown', 'VBN'), ('from', 'IN'), ('a', 'DT'), ('building', 'NN'), ('in', 'IN'), ('the', 'DT'), ('centre', 'NN'), ('of', 'IN'), ('Kufa', 'NNP'), ('by', 'IN'), (\"Yazid's\", 'NNP'), ('army', 'NN'), ('while', 'IN'), ('the', 'DT'), ('people', 'NNS'), ('of', 'IN'), ('Kufa', 'NNP'), ('stood', 'VBD'), ('silent\\nIn', 'JJ'), ('60\\xa0AH', 'CD'), ('(680),', 'JJ'), ('Husayn', 'NNP'), ('left', 'VBD'), ('Medina', 'NNP'), ('for', 'IN'), ('Mecca', 'NNP'), ('with', 'IN'), ('a', 'DT'), ('small', 'JJ'), ('group', 'NN'), ('of', 'IN'), ('companions', 'NNS'), ('and', 'CC'), ('family', 'NN'), ('members', 'NNS'), ('to', 'TO'), ('travel', 'VB'), ('to', 'TO'), ('Kufa', 'NNP'), ('He', 'PRP'), ('sent', 'VBD'), ('his', 'PRP$'), ('cousin,', 'NN'), ('Muslim', 'NNP'), ('ibn', 'NN'), ('Aqil,', 'NNP'), ('on', 'IN'), ('ahead', 'RB'), ('to', 'TO'), ('see', 'VB'), ('how', 'WRB'), ('he', 'PRP'), ('would', 'MD'), ('be', 'VB'), ('received', 'VBN'), ('and', 'CC'), ('then', 'RB'), ('he', 'PRP'), ('could', 'MD'), ('make', 'VB'), ('his', 'PRP$'), ('decision', 'NN'), ('to', 'TO'), ('enter', 'VB'), ('Kufa', 'NNP'), ('based', 'VBN'), ('on', 'IN'), ('the', 'DT'), ('advice', 'NN'), ('of', 'IN'), ('his', 'PRP$'), ('cousin', 'NN'), ('But,', 'NNP'), ('by', 'IN'), ('the', 'DT'), ('time', 'NN'), ('Husayn', 'NNP'), ('arrived', 'VBD'), ('near', 'IN'), ('Kufa,', 'NNP'), ('his', 'PRP$'), ('cousin', 'NN'), ('had', 'VBD'), ('been', 'VBN'), ('killed\\nOn', 'VBN'), ('the', 'DT'), ('way', 'NN'), ('to', 'TO'), ('Kufa,', 'NNP'), ('Husayn', 'NNP'), ('and', 'CC'), ('his', 'PRP$'), ('group', 'NN'), ('were', 'VBD'), ('intercepted', 'VBN'), ('They', 'PRP'), ('were', 'VBD'), ('forced', 'VBN'), ('to', 'TO'), ('detour', 'VB'), ('and', 'CC'), ('arrived', 'VBN'), ('in', 'IN'), ('Karbala', 'NNP'), ('on', 'IN'), ('the', 'DT'), ('2', 'CD'), ('Muharram,', 'NNP'), ('61\\xa0AH', 'CD'), (\"Husayn's\", 'NNP'), ('camp', 'NN'), ('was', 'VBD'), ('surrounded', 'VBN'), ('and', 'CC'), ('cut', 'VBN'), ('off', 'RP'), ('from', 'IN'), ('the', 'DT'), ('Euphrates', 'NNP'), ('river', 'VBD'), ('The', 'DT'), ('camp', 'NN'), ('ran', 'VBD'), ('out', 'IN'), ('of', 'IN'), ('water', 'NN'), ('on', 'IN'), ('the', 'DT'), ('7', 'CD'), ('Muharram\\nApart', 'NNP'), ('of', 'IN'), ('being', 'VBG'), ('the', 'DT'), ('\"standard', 'NN'), ('and', 'CC'), ('flag', 'NN'), ('bearer\"', 'NN'), ('of', 'IN'), ('Husayn', 'NNP'), ('ibn', 'NN'), (\"Ali's\", 'NNP'), ('army,', 'NN'), ('Abbas', 'NNP'), ('was', 'VBD'), ('asked', 'VBN'), ('by', 'IN'), ('the', 'DT'), ('thirsty', 'JJ'), ('children', 'NNS'), ('of', 'IN'), ('the', 'DT'), ('Ahl', 'NNP'), ('al-Bayt', 'NN'), ('to', 'TO'), ('bring', 'VB'), ('water', 'NN'), ('from', 'IN'), ('the', 'DT'), ('river', 'NN'), ('The', 'DT'), ('Euphrates', 'NNPS'), ('river', 'NN'), ('was', 'VBD'), ('occupied', 'VBN'), ('by', 'IN'), ('Yazid', 'NNP'), (\"I's\", 'NNP'), ('army', 'NN'), ('to', 'TO'), ('prevent', 'VB'), ('the', 'DT'), ('camp', 'NN'), ('of', 'IN'), ('Husayn', 'NNP'), ('from', 'IN'), ('getting', 'VBG'), ('water', 'NN'), ('Abbas', 'NNP'), ('was', 'VBD'), ('only', 'RB'), ('allowed', 'VBN'), ('to', 'TO'), ('take', 'VB'), ('a', 'DT'), ('defensive', 'JJ'), ('role', 'NN'), ('because', 'IN'), ('his', 'PRP$'), ('brother', 'NN'), ('Husayn', 'NNP'), (\"didn't\", 'NN'), ('want', 'VBP'), ('him', 'PRP'), ('to', 'TO'), ('fight', 'VB'), ('He', 'PRP'), ('was', 'VBD'), ('only', 'RB'), ('allowed', 'VBN'), ('to', 'TO'), ('get', 'VB'), ('water', 'NN'), ('\\nEventually,', 'NNP'), ('Abbas', 'NNP'), ('went', 'VBD'), ('to', 'TO'), ('the', 'DT'), ('river', 'NN'), ('to', 'TO'), ('get', 'VB'), ('water', 'NN'), ('for', 'IN'), ('the', 'DT'), ('children', 'NNS'), ('in', 'IN'), (\"Husayn's\", 'NNP'), ('camp', 'NN'), ('', 'NNP'), ('', 'NNP'), ('However,', 'NNP'), ('on', 'IN'), ('the', 'DT'), ('way', 'NN'), ('back,', 'IN'), ('the', 'DT'), ('enemy', 'NN'), ('soldiers', 'NNS'), ('afraid', 'IN'), ('of', 'IN'), ('Abbas', 'NNP'), ('first', 'RB'), ('started', 'VBD'), ('showering', 'VBG'), ('arrows', 'NNS'), ('on', 'IN'), ('him', 'PRP'), ('one', 'CD'), ('which', 'WDT'), ('pierced', 'VBD'), ('one', 'CD'), ('of', 'IN'), ('his', 'PRP$'), ('eyes', 'NNS'), ('and', 'CC'), ('then', 'RB'), ('seeing', 'VBG'), ('him', 'PRP'), ('vulnerable', 'JJ'), ('they', 'PRP'), ('moved', 'VBD'), ('forward', 'RB'), ('and', 'CC'), ('cut', 'VB'), ('off', 'RP'), ('one', 'CD'), ('of', 'IN'), ('his', 'PRP$'), ('hands', 'NNS'), ('(while', 'IN'), ('he', 'PRP'), ('was', 'VBD'), ('mounted', 'VBN'), ('on', 'IN'), ('the', 'DT'), ('horse)', 'NN'), ('while', 'IN'), ('he', 'PRP'), ('tried', 'VBD'), ('to', 'TO'), ('ward', 'VB'), ('them', 'PRP'), ('off', 'RP'), ('and', 'CC'), ('then', 'RB'), ('later', 'RB'), ('cut', 'VB'), ('the', 'DT'), ('other', 'JJ'), ('one,', 'NN'), ('and', 'CC'), ('then', 'RB'), ('one', 'CD'), ('arrow', 'NN'), ('struck', 'VBD'), ('the', 'DT'), ('Mashki,', 'NNP'), ('or', 'CC'), ('the', 'DT'), ('water', 'NN'), ('jug,', 'NN'), ('and', 'CC'), ('he', 'PRP'), ('fell', 'VBD'), ('from', 'IN'), ('the', 'DT'), ('horse', 'NN'), ('face', 'NN'), ('first', 'RB'), ('and', 'CC'), ('cried', 'VBN'), ('out', 'RP'), ('his', 'PRP$'), ('last', 'JJ'), ('salutations', 'NNS'), ('to', 'TO'), ('his', 'PRP$'), ('Imam,', 'NNP'), ('HusaynHearing', 'NNP'), ('his', 'PRP$'), ('voice', 'NN'), ('Husayn', 'NNP'), ('rushed', 'VBD'), ('towards', 'IN'), ('the', 'DT'), ('Euphrates', 'NNP'), ('where', 'WRB'), ('Abbas', 'NNP'), ('lay', 'NN'), ('wounded', 'VBD'), ('and', 'CC'), ('on', 'IN'), ('the', 'DT'), ('verge', 'NN'), ('of', 'IN'), ('death', 'NN'), ('Husayn', 'NNP'), ('reached', 'VBD'), ('Abbas', 'NNP'), ('and', 'CC'), ('lay', 'VBD'), ('his', 'PRP$'), ('brother’s', 'JJ'), ('head', 'NN'), ('in', 'IN'), ('his', 'PRP$'), ('lap', 'NN'), ('as', 'IN'), ('Abbas', 'NNP'), ('breathed', 'VBD'), ('his', 'PRP$'), ('last', 'JJ'), ('Abbas', 'NNP'), ('before', 'IN'), ('dying', 'VBG'), ('had', 'VBD'), ('asked', 'VBN'), ('his', 'PRP$'), ('brother', 'NN'), ('and', 'CC'), ('leader', 'NN'), ('Husayn', 'NNP'), ('to', 'TO'), ('not', 'RB'), ('take', 'VB'), ('his', 'PRP$'), ('body', 'NN'), ('back', 'RB'), ('to', 'TO'), ('the', 'DT'), ('tents', 'NNS'), ('for', 'IN'), ('his', 'PRP$'), ('sisters', 'NNS'), ('and', 'CC'), ('the', 'DT'), ('women', 'NNS'), ('would', 'MD'), ('be', 'VB'), ('inconsolable', 'JJ'), ('(is', 'NNP'), ('also', 'RB'), ('said', 'VBD'), ('that', 'IN'), ('he', 'PRP'), ('was', 'VBD'), ('ashamed', 'VBN'), ('for', 'IN'), ('he', 'PRP'), ('could', 'MD'), ('not', 'RB'), ('bring', 'VB'), ('water', 'NN'), ('to', 'TO'), ('the', 'DT'), ('thirsty', 'JJ'), ('children', 'NNS'), ('who', 'WP'), ('were', 'VBD'), ('waiting', 'VBG'), ('hopefully', 'RB'), ('for', 'IN'), ('his', 'PRP$'), ('return', 'NN'), ('and', 'CC'), ('some', 'DT'), ('water)', 'JJ'), ('Abbas', 'NNP'), ('died', 'VBD'), ('on', 'IN'), ('Friday,', 'NNP'), ('10', 'CD'), ('Muharram,', 'NNP'), ('61\\xa0AH,', 'CD'), ('near', 'IN'), ('the', 'DT'), ('bank', 'NN'), ('of', 'IN'), ('the', 'DT'), ('river', 'NN'), ('Euphrates', 'VBZ'), ('Later,his', 'NNP'), ('body', 'NN'), ('was', 'VBD'), ('decapitated', 'VBN'), ('and', 'CC'), ('the', 'DT'), ('head', 'NN'), ('was', 'VBD'), ('shown', 'VBN'), ('the', 'DT'), ('spikes', 'NNS'), ('and', 'CC'), ('paraded', 'VBN'), ('with', 'IN'), ('the', 'DT'), ('other', 'JJ'), ('martyrs', 'NN'), ('of', 'IN'), ('Karbala\\nHence,', 'NNP'), ('he', 'PRP'), ('is', 'VBZ'), ('called', 'VBN'), ('the', 'DT'), ('\"Hero', 'NN'), ('of', 'IN'), ('the', 'DT'), ('Euphrates\"', 'NNP'), ('(Arabic:', 'NNP'), ('بطل', 'NNP'), ('العلقمي)', 'NNP'), ('Shia', 'NNP'), ('Muslims', 'NNP'), ('mourn', 'VBP'), ('the', 'DT'), ('deaths', 'NNS'), ('of', 'IN'), ('all', 'PDT'), ('those', 'DT'), ('who', 'WP'), ('fell', 'VBD'), ('at', 'IN'), ('the', 'DT'), ('Battle', 'NNP'), ('of', 'IN'), ('Karbala', 'NNP'), ('with', 'IN'), ('Husayn', 'NNP'), ('in', 'IN'), ('the', 'DT'), ('Islamic', 'NNP'), ('month', 'NN'), ('of', 'IN'), ('Muharram,', 'NNP'), ('mainly', 'RB'), ('in', 'IN'), ('the', 'DT'), ('first', 'JJ'), ('ten', 'JJ'), ('days', 'NNS'), ('of', 'IN'), ('the', 'DT'), ('month', 'NN'), (\"Abbas's\", 'NNP'), ('death', 'NN'), ('is', 'VBZ'), ('generally', 'RB'), ('commemorated', 'VBN'), ('on', 'IN'), ('the', 'DT'), ('eighth', 'JJ'), ('night', 'NN'), ('of', 'IN'), ('Muharram', 'NNP'), ('Fadl', 'NNP'), ('ibn', 'NN'), ('Abbas', 'NNP'), ('and', 'CC'), ('Qasim', 'NNP'), ('ibn', 'VBP'), ('Abbas', 'NNP'), ('also', 'RB'), ('laid', 'VBD'), ('down', 'RP'), ('their', 'PRP$'), ('lives', 'NNS'), ('in', 'IN'), ('Karbala', 'NNP'), ('Ubayd', 'NNP'), ('Allah', 'NNP'), ('ibn', 'NN'), ('Abbas', 'NNP'), ('lived', 'VBD'), ('to', 'TO'), ('continue', 'VB'), ('the', 'DT'), ('lineage', 'NN'), ('of', 'IN'), ('Abbas', 'NNP'), ('with', 'IN'), ('five', 'CD'), ('sons', 'NNS'), ('of', 'IN'), ('his', 'PRP$'), ('own\\nAbbas', 'NN'), ('was', 'VBD'), ('buried', 'VBN'), ('at', 'IN'), ('the', 'DT'), ('spot', 'NN'), ('where', 'WRB'), ('he', 'PRP'), ('fell', 'VBD'), ('from', 'IN'), ('his', 'PRP$'), ('horse', 'NN'), ('in', 'IN'), ('Karbala,', 'NNP'), ('Iraq', 'NNP'), ('The', 'DT'), ('Al-Abbas', 'NNP'), ('Shrine', 'NNP'), ('was', 'VBD'), ('built', 'VBN'), ('around', 'IN'), ('his', 'PRP$'), ('grave,', 'NN'), ('at', 'IN'), ('which', 'WDT'), ('millions', 'NNS'), ('of', 'IN'), ('pilgrims', 'NNS'), ('pay', 'VBP'), ('homage', 'NN'), ('every', 'DT'), ('year\\nAbbas', 'NN'), ('ibn', 'NN'), ('Ali', 'NNP'), ('had', 'VBD'), ('five', 'CD'), ('sons:', 'NNS'), ('Ubayd', 'NNP'), ('Allah,', 'NNP'), ('Fadl,', 'NNP'), ('Hasan,', 'NNP'), ('Qasim', 'NNP'), ('and', 'CC'), ('Muhammad;', 'NNP'), ('and', 'CC'), ('also', 'RB'), ('2', 'CD'), ('daughters', 'NNS'), ('Ibn', 'NNP'), ('Shahrashub,', 'NNP'), ('a', 'DT'), ('prominent', 'JJ'), ('historian,', 'NN'), ('recorded', 'VBD'), ('that:', 'JJ'), ('\"Muhammad', 'NNP'), ('ibn', 'NN'), ('Abbas', 'NNP'), ('was', 'VBD'), ('martyred', 'VBN'), ('in', 'IN'), ('Karbala', 'NNP'), ('with', 'IN'), ('his', 'PRP$'), ('father\"', 'NN'), ('The', 'DT'), ('mother', 'NN'), ('of', 'IN'), ('Ubayd', 'NNP'), ('Allah', 'NNP'), ('and', 'CC'), ('Fadl', 'NNP'), ('was', 'VBD'), ('Lubaba', 'NNP'), ('bint', 'NN'), ('Ubayd', 'NNP'), ('Allah', 'NNP'), ('ibn', 'NN'), ('Abbas', 'NNP'), ('Genealogists', 'VBZ'), ('consider', 'VBP'), ('that', 'IN'), ('the', 'DT'), ('progeny', 'NN'), ('of', 'IN'), ('Abbas', 'NNP'), ('came', 'VBD'), ('from', 'IN'), ('his', 'PRP$'), ('son', 'NN'), ('Ubayd', 'NNP'), ('Allah', 'NNP'), ('Shaykh', 'NNP'), ('al-Futouni,', 'JJ'), ('however,', 'NN'), ('mentioned', 'VBD'), ('that', 'IN'), ('Hasan', 'NNP'), ('ibn', 'NN'), ('Abbas', 'NNP'), ('also', 'RB'), ('had', 'VBD'), ('sons', 'NNS'), ('and', 'CC'), ('descendants', 'NNS'), ('Ubayd', 'NNP'), ('Allah', 'NNP'), ('ibn', 'NN'), ('Abbas,', 'NNP'), ('who', 'WP'), ('died', 'VBD'), ('in', 'IN'), ('155\\xa0AH,', 'CD'), ('was', 'VBD'), ('a', 'DT'), ('celebrated', 'JJ'), ('scholar', 'NN'), ('known', 'VBN'), ('for', 'IN'), ('his', 'PRP$'), ('handsomeness,', 'NN'), ('perfect', 'JJ'), ('morality', 'NN'), ('and', 'CC'), ('fine', 'JJ'), ('personality', 'NN'), ('He', 'PRP'), ('had', 'VBD'), ('three', 'CD'), ('wives\\nAli', 'NNS'), ('ibn', 'VBP'), ('Husayn', 'NNP'), ('Zayn', 'NNP'), ('al-Abidin,', 'NN'), ('had', 'VBD'), ('great', 'JJ'), ('respect', 'NN'), ('for', 'IN'), ('his', 'PRP$'), ('uncle', 'NN'), ('Abbas', 'NNP'), ('He', 'PRP'), ('often', 'RB'), ('wept', 'VBD'), ('when', 'WRB'), ('his', 'PRP$'), ('eyes', 'NNS'), ('fell', 'VBD'), ('on', 'IN'), ('Ubayd', 'NNP'), ('Allah,', 'NNP'), ('explaining', 'VBG'), ('that', 'IN'), ('he', 'PRP'), ('reminded', 'VBD'), ('him', 'PRP'), ('of', 'IN'), ('his', 'PRP$'), (\"father's\", 'NN'), ('heroic', 'NN'), ('and', 'CC'), ('tragic', 'JJ'), ('exploit', 'NN'), ('on', 'IN'), ('that', 'DT'), ('day', 'NN'), ('in', 'IN'), ('Karbala\\nAbd', 'NNP'), ('Allah', 'NNP'), ('Awn', 'NNP'), ('was', 'VBD'), ('an', 'DT'), ('11th', 'JJ'), ('century', 'NN'), ('descendant', 'NN'), ('of', 'IN'), ('Abbas', 'NNP'), ('who', 'WP'), ('ruled', 'VBD'), ('Herat', 'NNP'), ('He', 'PRP'), ('was', 'VBD'), ('also', 'RB'), ('a', 'DT'), ('Sufi,', 'NNP'), ('Muslim', 'NNP'), ('preacher', 'NN'), ('and', 'CC'), ('a', 'DT'), ('religious', 'JJ'), ('scholar\\nAbbas', 'NN'), ('is', 'VBZ'), ('known', 'VBN'), ('as', 'IN'), ('Abu', 'NNP'), ('al-Fadl', 'JJ'), ('(ابوالفضل),', 'NNP'), ('meaning', 'VBG'), ('the', 'DT'), ('father', 'NN'), ('of', 'IN'), ('heavenly', 'JJ'), ('graces', 'NNS'), ('and/or', 'VBP'), ('the', 'DT'), ('father', 'NN'), ('of', 'IN'), ('the', 'DT'), ('graceful', 'JJ'), ('manner', 'NN'), ('Abbas', 'NNP'), ('was', 'VBD'), ('a', 'DT'), ('chivalrous', 'JJ'), ('and', 'CC'), ('loyal', 'JJ'), ('companion', 'NN'), ('to', 'TO'), ('his', 'PRP$'), ('half-brother', 'JJ'), ('Husayn', 'NNP'), ('\\nAbbas', 'NNP'), ('ibn', 'NN'), ('Ali', 'NNP'), ('is', 'VBZ'), ('also', 'RB'), ('known', 'VBN'), ('asQamar', 'NN'), ('Banu', 'NNP'), ('Hashim,', 'NNP'), ('meaning', 'VBG'), ('the', 'DT'), ('moon', 'NN'), ('of', 'IN'), ('the', 'DT'), ('Hashim', 'NNP'), ('clan\\nHe', 'NN'), ('is', 'VBZ'), ('also', 'RB'), ('known', 'VBN'), ('as', 'IN'), ('Ghazi', 'NNP'), ('(غازی),', 'NNP'), ('meaning', 'VBG'), ('\"soldier', 'NN'), ('who', 'WP'), ('returns', 'VBZ'), ('successfully', 'RB'), ('from', 'IN'), ('the', 'DT'), ('battle\"', 'NN'), ('Although', 'IN'), ('Abbas', 'NNP'), ('was', 'VBD'), ('killed', 'VBN'), ('at', 'IN'), ('Karbala,', 'NNP'), ('he', 'PRP'), ('is', 'VBZ'), ('known', 'VBN'), ('as', 'IN'), ('Alamdar', 'NNP'), ('because', 'IN'), ('the', 'DT'), ('flag', 'NN'), ('(alam)', 'NNP'), ('bearer', 'NN'), ('is', 'VBZ'), ('known', 'VBN'), ('as', 'IN'), ('Alamdar', 'NNP'), ('Abbas', 'NNP'), ('was', 'VBD'), ('not', 'RB'), ('given', 'VBN'), ('permission', 'NN'), ('to', 'TO'), ('carry', 'VB'), ('a', 'DT'), ('sword', 'NN'), ('by', 'IN'), ('his', 'PRP$'), ('brother', 'NN'), ('To', 'TO'), ('get', 'VB'), ('water', 'NN'), ('for', 'IN'), ('the', 'DT'), ('children', 'NNS'), ('in', 'IN'), ('the', 'DT'), ('camps', 'NNS'), ('he', 'PRP'), ('was', 'VBD'), ('provided', 'VBN'), ('with', 'IN'), ('a', 'DT'), ('spear', 'NN'), ('and', 'CC'), ('a', 'DT'), ('horse', 'NN'), ('by', 'IN'), ('his', 'PRP$'), ('brother', 'NN'), ('Husayn', 'NNP'), ('The', 'DT'), ('tradition(s)', 'NN'), ('narrates', 'VBZ'), ('that:', 'JJ'), ('\"Ghazi', 'NNS'), ('cleared', 'VBD'), ('all', 'PDT'), ('the', 'DT'), ('forces', 'NNS'), ('of', 'IN'), ('Yazid', 'NNP'), ('with', 'IN'), ('just', 'RB'), ('a', 'DT'), ('spear', 'NN'), ('and', 'CC'), ('made', 'VBD'), ('it', 'PRP'), ('to', 'TO'), ('the', 'DT'), ('river', 'NN'), ('(Euphrates)', 'NN'), ('and', 'CC'), ('filled', 'VBD'), ('the', 'DT'), ('water', 'NN'), ('in', 'IN'), ('the', 'DT'), ('water', 'NN'), ('carrying', 'VBG'), ('bag', 'NN'), ('(mashkeza)', 'NN'), ('He', 'PRP'), ('then', 'RB'), ('started', 'VBD'), ('heading', 'VBG'), ('back', 'RB'), ('to', 'TO'), ('the', 'DT'), ('camp', 'NN'), ('This', 'DT'), ('time,', 'VBZ'), ('the', 'DT'), ('army', 'NN'), ('knew', 'VBD'), ('they', 'PRP'), ('could', 'MD'), ('not', 'RB'), ('stop', 'VB'), ('him', 'PRP'), ('in', 'IN'), ('hand', 'NN'), ('to', 'TO'), ('hand', 'NN'), ('combat,', 'NNS'), ('so', 'IN'), ('they', 'PRP'), ('shot', 'VBP'), ('arrows', 'NNS'), ('towards', 'IN'), ('the', 'DT'), ('arm', 'NN'), ('in', 'IN'), ('which', 'WDT'), ('he', 'PRP'), ('was', 'VBD'), ('holding', 'VBG'), ('the', 'DT'), ('mashkeza', 'NN'), ('When', 'WRB'), ('one', 'CD'), ('of', 'IN'), ('his', 'PRP$'), ('arms', 'NNS'), ('got', 'VBD'), ('detached', 'VBN'), ('by', 'IN'), ('the', 'DT'), ('arrow,', 'NN'), ('he', 'PRP'), ('started', 'VBD'), ('to', 'TO'), ('carry', 'VB'), ('it', 'PRP'), ('with', 'IN'), ('the', 'DT'), ('other', 'JJ'), ('arm;', 'NN'), ('afterwards,', 'IN'), ('that', 'DT'), ('arm', 'NN'), ('was', 'VBD'), ('targeted', 'VBN'), ('and', 'CC'), ('also', 'RB'), ('was', 'VBD'), ('cut', 'VBN'), ('off', 'RP'), ('Then,', 'NNP'), ('he', 'PRP'), ('held', 'VBD'), ('the', 'DT'), ('mashkeza', 'NN'), ('with', 'IN'), ('his', 'PRP$'), ('teeth', 'NNS'), ('and', 'CC'), ('continued', 'VBD'), ('heading', 'VBG'), ('back', 'RB'), ('The', 'DT'), ('enemies', 'NNS'), ('pointed', 'VBD'), ('the', 'DT'), ('arrows', 'NNS'), ('at', 'IN'), ('the', 'DT'), ('mashkeza', 'NN'), ('in', 'IN'), ('his', 'PRP$'), ('mouth,', 'NN'), ('and', 'CC'), ('when', 'WRB'), ('that', 'DT'), ('mahskeza', 'VBZ'), ('got', 'VBD'), ('attacked', 'VBN'), ('and', 'CC'), ('the', 'DT'), ('water', 'NN'), ('spilled', 'VBD'), ('out,', 'IN'), ('they', 'PRP'), ('started', 'VBD'), ('shooting', 'VBG'), ('arrows', 'NNS'), ('at', 'IN'), ('Abbas', 'NNP'), ('The', 'DT'), ('traditions', 'NNS'), ('say', 'VBP'), ('that', 'IN'), ('the', 'DT'), ('number', 'NN'), ('of', 'IN'), ('arrows', 'NNS'), ('were', 'VBD'), ('so', 'RB'), ('numerous', 'JJ'), ('that', 'IN'), ('Ghazi', 'NNP'), (\"Abbas's\", 'NNP'), ('body', 'NN'), ('did', 'VBD'), ('not', 'RB'), ('land', 'VB'), ('on', 'IN'), ('the', 'DT'), ('ground,', 'NN'), ('but', 'CC'), ('was', 'VBD'), ('instead', 'RB'), ('on', 'IN'), ('top', 'NN'), ('of', 'IN'), ('the', 'DT'), ('arrows', 'NNS'), ('(in', 'VBP'), ('between', 'IN'), ('the', 'DT'), ('ground', 'NN'), ('and', 'CC'), ('the', 'DT'), ('sky)', 'NN'), ('-', ':'), ('and', 'CC'), ('when', 'WRB'), ('his', 'PRP$'), ('brother', 'NN'), ('Husayn', 'NNP'), ('came', 'VBD'), ('towards', 'NNS'), ('him,', 'NN'), ('Abbas', 'NNP'), ('said:', 'NN'), ('\"I', 'NNP'), ('am', 'VBP'), ('sorry', 'JJ'), ('and', 'CC'), ('ashamed', 'VBD'), ('for', 'IN'), ('not', 'RB'), ('fulfilling', 'VBG'), ('my', 'PRP$'), ('promise\",', 'NN'), ('as', 'IN'), ('he', 'PRP'), ('promised', 'VBD'), (\"Husayn's\", 'NNP'), ('young', 'JJ'), ('daughter', 'NN'), ('that', 'IN'), ('he', 'PRP'), ('will', 'MD'), ('get', 'VB'), ('the', 'DT'), ('water', 'NN'), ('to', 'TO'), ('her', 'PRP$'), ('Husayn,', 'NNP'), ('with', 'IN'), ('tears', 'NNS'), ('in', 'IN'), ('his', 'PRP$'), ('eyes', 'NNS'), ('and', 'CC'), ('a', 'DT'), ('heavy', 'JJ'), ('heart,', 'NN'), ('said', 'VBD'), ('his', 'PRP$'), ('final', 'JJ'), ('good-bye', 'NN'), ('to', 'TO'), ('his', 'PRP$'), ('half', 'NN'), ('brother', 'NN'), ('Abbas\\nAbbas', 'NNP'), ('was', 'VBD'), ('given', 'VBN'), ('a', 'DT'), ('horse', 'NN'), ('named', 'VBN'), ('\"Ashal\"', 'NNP'), (\"('\", 'NNP'), ('Light', 'NNP'), ('And', 'CC'), ('Radiance', 'NNP'), (\"')\", 'NNP'), ('Shia', 'NNP'), ('sources', 'NNS'), ('say', 'VBP'), ('that', 'IN'), ('this', 'DT'), ('horse', 'NN'), ('was', 'VBD'), ('used', 'VBN'), ('by', 'IN'), ('Muhammad', 'NNP'), ('and', 'CC'), ('Ali', 'NNP'), ('and', 'CC'), ('that', 'IN'), ('this', 'DT'), ('horse', 'NN'), ('was', 'VBD'), ('presented', 'VBN'), ('to', 'TO'), ('Muhammad', 'NNP'), ('by', 'IN'), ('the', 'DT'), ('King', 'NNP'), ('of', 'IN'), ('Yemen,', 'NNP'), ('Sayf', 'NNP'), ('ibn', 'NN'), ('Dhi', 'NNP'), ('Yazan,', 'NNP'), ('through', 'IN'), ('Abd', 'NNP'), ('al-Muttalib', 'JJ'), ('The', 'DT'), ('king', 'NN'), ('considered', 'VBD'), ('the', 'DT'), ('horse', 'NN'), ('to', 'TO'), ('be', 'VB'), ('very', 'RB'), ('important,', 'JJ'), ('and', 'CC'), ('its', 'PRP$'), ('superiority', 'NN'), ('over', 'IN'), ('other', 'JJ'), ('horses', 'NNS'), ('was', 'VBD'), ('evident', 'JJ'), ('by', 'IN'), ('the', 'DT'), ('fact', 'NN'), ('that', 'IN'), ('its', 'PRP$'), ('genealogical', 'JJ'), ('tree', 'NN'), ('was', 'VBD'), ('also', 'RB'), ('maintained', 'VBD'), ('It', 'PRP'), ('was', 'VBD'), ('initially', 'RB'), ('named', 'VBN'), ('\"Murtajiz\",', 'NNP'), ('which', 'WDT'), ('comes', 'VBZ'), ('from', 'IN'), ('the', 'DT'), ('Arabic', 'NNP'), ('name', 'NN'), ('\"Rijiz\"', 'NNP'), ('meaning', 'NN'), ('thunder', 'NN'), ('(lightning)\\nAccording', 'VBG'), ('to', 'TO'), ('the', 'DT'), ('traditions', 'NNS'), ('of', 'IN'), ('the', 'DT'), ('Bektashi', 'NNP'), ('Order,', 'NNP'), ('a', 'DT'), ('Sufi', 'NNP'), ('community', 'NN'), ('based', 'VBN'), ('primarily', 'RB'), ('in', 'IN'), ('Albania,', 'NNP'), ('Abbas', 'NNP'), ('ibn', 'NN'), ('Ali', 'NNP'), ('(Albanian:', 'NNP'), ('Abaz', 'NNP'), ('Aliu)', 'NNP'), ('went', 'VBD'), ('to', 'TO'), ('Albania', 'NNP'), ('on', 'IN'), ('a', 'DT'), ('white', 'JJ'), ('horse', 'NN'), ('to', 'TO'), ('save', 'VB'), ('it', 'PRP'), ('from', 'IN'), ('the', 'DT'), ('barbarians,', 'NN'), ('and', 'CC'), ('continues', 'VBZ'), ('to', 'TO'), ('return', 'VB'), ('to', 'TO'), ('Mount', 'NNP'), ('Tomorr', 'NNP'), ('in', 'IN'), ('Albania', 'NNP'), ('for', 'IN'), ('five', 'CD'), ('days', 'NNS'), ('(August', 'RB'), ('20–25)', 'CD'), ('each', 'DT'), ('year,', 'NN'), ('during', 'IN'), ('which', 'WDT'), ('animal', 'JJ'), ('sacrifices', 'NNS'), ('are', 'VBP'), ('made', 'VBN'), ('and', 'CC'), ('homage', 'NN'), ('is', 'VBZ'), ('paid', 'VBN'), ('to', 'TO'), ('Abbas', 'NNP'), ('ibn', 'NN'), ('Ali', 'NNP'), ('During', 'IN'), ('these', 'DT'), ('five', 'CD'), ('days,', 'NNS'), ('Bektashi', 'NNP'), ('pilgrims', 'VBZ'), ('visit', 'IN'), ('the', 'DT'), ('Abbas', 'NNP'), ('Ali', 'NNP'), ('Türbe,', 'NNP'), ('a', 'DT'), ('mausoleum', 'NN'), ('(Albanian:', 'NN'), ('mekam)', 'NN'), ('believed', 'VBD'), ('to', 'TO'), ('house', 'NN'), ('the', 'DT'), ('remains', 'NNS'), ('of', 'IN'), ('Abbas', 'NNP'), ('ibn', 'NN'), ('Ali', 'NNP'), ('The', 'DT'), ('mausoleum', 'NN'), ('is', 'VBZ'), ('located', 'VBN'), ('on', 'IN'), ('the', 'DT'), ('southern', 'JJ'), ('peak', 'NN'), ('of', 'IN'), ('Mount', 'NNP'), ('Tomorr,', 'NNP'), ('which', 'WDT'), ('was', 'VBD'), ('originally', 'RB'), ('constructed', 'VBN'), ('in', 'IN'), ('1620', 'CD'), ('The', 'DT'), ('mausoleum', 'NN'), ('lies', 'VBZ'), ('adjacent', 'JJ'), ('to', 'TO'), ('the', 'DT'), ('Bektashi', 'NNP'), ('tekke', 'NN'), ('on', 'IN'), ('Mount', 'NNP'), ('Tomorr,', 'NNP'), ('which', 'WDT'), ('was', 'VBD'), ('built', 'VBN'), ('in', 'IN'), ('1916\\nTürbe', 'CD'), ('of', 'IN'), ('Abbas', 'NNP'), ('ibn', 'NN'), ('Ali', 'NNP'), ('on', 'IN'), ('Mount', 'NNP'), ('Tomorr\\nTürbe', 'NNP'), ('of', 'IN'), ('Abbas', 'NNP'), ('ibn', 'NN'), ('Ali', 'NNP'), ('on', 'IN'), ('Mount', 'NNP'), ('Tomorr\\nPilgrimage', 'NNP'), ('scene', 'NN'), ('on', 'IN'), ('23', 'CD'), ('August', 'NNP'), ('2014\\n', 'CD')]\n"
     ]
    }
   ],
   "source": [
    "# POS TAGGING\n",
    "\n",
    "spliting = list(page.split(\" \"))\n",
    "P_Tages = nltk.pos_tag(spliting)\n",
    "\n",
    "print(P_Tages)"
   ]
  },
  {
   "cell_type": "code",
   "execution_count": 91,
   "id": "1493ada0",
   "metadata": {},
   "outputs": [
    {
     "name": "stdout",
     "output_type": "stream",
     "text": [
      "[('other', 7), ('al-Fadl', 2), ('al-Banin', 2), ('warrior', 2), ('great', 2)]\n"
     ]
    }
   ],
   "source": [
    "# MOST FREQUENTLY OCCURING 5 ADJECTIVES\n",
    "\n",
    "adjectives = []\n",
    "\n",
    "for i in P_Tages:\n",
    "    if(i[1].find(\"JJ\") != -1):\n",
    "        adjectives.append(i[0])\n",
    "        \n",
    "c = Counter(adjectives)\n",
    "tc = c.most_common(5)\n",
    "\n",
    "print(tc)"
   ]
  },
  {
   "cell_type": "code",
   "execution_count": 92,
   "id": "685ec63e",
   "metadata": {},
   "outputs": [
    {
     "name": "stdout",
     "output_type": "stream",
     "text": [
      "romanized: al-ʿAbbās >>> romanized: al-ʿabbā &&& romanized: al-ʿabbā\n",
      "al-Bayt >>> al-bayt &&& al-bayt\n",
      "handsome >>> handsom &&& handsom\n",
      "al-Ayn >>> al-ayn &&& al-ayn\n",
      "unshakable >>> unshak &&& unshak\n"
     ]
    }
   ],
   "source": [
    "# STEM LEAST FREQUENT 5 VERBS\n",
    "from nltk.stem.snowball import SnowballStemmer\n",
    "\n",
    "verbs = []\n",
    "\n",
    "for i in P_Tages:  #Numbers of Verb Count \n",
    "    if(i[1].find(\"VB\") != -1):\n",
    "        verbs.append(i[0])\n",
    "        \n",
    "VC = Counter(verbs)\n",
    "# print(VC) \n",
    "\n",
    "least = sorted(c.items(), key=itemgetter(1), reverse=False)\n",
    "\n",
    "leastVerb = []\n",
    "for i in range(5):\n",
    "    leastVerb.append(least[i][0])\n",
    "\n",
    "\n",
    "ss_stemmer = SnowballStemmer('english')\n",
    "stemmer = PorterStemmer()\n",
    "\n",
    "for word in leastVerb:\n",
    "    print(f\"{word} >>> {stemmer.stem(word)} &&& {ss_stemmer.stem(word)}\")\n",
    "       "
   ]
  },
  {
   "cell_type": "code",
   "execution_count": 100,
   "id": "6ce4b97e",
   "metadata": {},
   "outputs": [
    {
     "name": "stdout",
     "output_type": "stream",
     "text": [
      "Displaying 2 of 2 matches:\n",
      "though Abbas killed Karbala , known Alamdar flag ( alam ) bearer known Alamdar \n",
      " Alamdar flag ( alam ) bearer known Alamdar Abbas given permission carry sword \n"
     ]
    }
   ],
   "source": [
    "text = Text(Stop_List)\n",
    "text.concordance(\"Alamdar\")"
   ]
  },
  {
   "cell_type": "code",
   "execution_count": 77,
   "id": "75677039",
   "metadata": {},
   "outputs": [
    {
     "name": "stdout",
     "output_type": "stream",
     "text": [
      "[(',', 103), ('Abbas', 53), ('ibn', 33)]\n"
     ]
    },
    {
     "data": {
      "image/png": "[encoded data removed]",
      "text/plain": [
       "<Figure size 864x648 with 1 Axes>"
      ]
     },
     "metadata": {
      "needs_background": "light"
     },
     "output_type": "display_data"
    }
   ],
   "source": [
    "from nltk.draw.dispersion import dispersion_plot\n",
    "\n",
    "\n",
    "word_freq_dist = FreqDist(Stop_List)\n",
    "words = word_freq_dist.most_common(3)\n",
    "print(words) \n",
    "#IN graph I ignore \",\" That's why i extract 3 most common words\n",
    "\n",
    "\n",
    "plt.figure(figsize=(12, 9))\n",
    "targets=[words[1][0], words[2][0]]\n",
    "dispersion_plot(Stop_List , targets , ignore_case=True, title='Lexical Dispersion Plot')"
   ]
  },
  {
   "cell_type": "code",
   "execution_count": null,
   "id": "8f21c666",
   "metadata": {},
   "outputs": [],
   "source": []
  }
 ],
 "metadata": {
  "kernelspec": {
   "display_name": "Python 3",
   "language": "python",
   "name": "python3"
  },
  "language_info": {
   "codemirror_mode": {
    "name": "ipython",
    "version": 3
   },
   "file_extension": ".py",
   "mimetype": "text/x-python",
   "name": "python",
   "nbconvert_exporter": "python",
   "pygments_lexer": "ipython3",
   "version": "3.8.8"
  }
 },
 "nbformat": 4,
 "nbformat_minor": 5
}
