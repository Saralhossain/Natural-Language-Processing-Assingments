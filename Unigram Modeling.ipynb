{
 "cells": [
  {
   "cell_type": "code",
   "execution_count": 18,
   "id": "12d48bc9",
   "metadata": {},
   "outputs": [],
   "source": [
    "import nltk"
   ]
  },
  {
   "cell_type": "code",
   "execution_count": 19,
   "id": "b12c097b",
   "metadata": {},
   "outputs": [],
   "source": [
    "from nltk import word_tokenize, sent_tokenize"
   ]
  },
  {
   "cell_type": "code",
   "execution_count": 20,
   "id": "e14de5be",
   "metadata": {},
   "outputs": [],
   "source": [
    "import string"
   ]
  },
  {
   "cell_type": "code",
   "execution_count": 21,
   "id": "e7b21f07",
   "metadata": {},
   "outputs": [],
   "source": [
    "string.punctuation = string.punctuation +'“'+'”'+'-'+'’'+'‘'+'—'"
   ]
  },
  {
   "cell_type": "code",
   "execution_count": 22,
   "id": "e231af41",
   "metadata": {},
   "outputs": [],
   "source": [
    "string.punctuation = string.punctuation.replace('.', '')"
   ]
  },
  {
   "cell_type": "code",
   "execution_count": 23,
   "id": "b187a067",
   "metadata": {},
   "outputs": [],
   "source": [
    "file = open('corpus.txt', encoding = 'utf8').read()"
   ]
  },
  {
   "cell_type": "code",
   "execution_count": 24,
   "id": "dbb62145",
   "metadata": {},
   "outputs": [],
   "source": [
    "file_with_nl_removed = \"\"\n",
    "for line in file:\n",
    "  line_with_nl_removed = line.replace(\"\\n\", \" \")\n",
    "  file_with_nl_removed += line_with_nl_removed\n",
    "file_p = \"\".join([char for char in file_with_nl_removed if char not in string.punctuation])"
   ]
  },
  {
   "cell_type": "code",
   "execution_count": 25,
   "id": "d543ce7b",
   "metadata": {},
   "outputs": [
    {
     "data": {
      "text/plain": [
       "''"
      ]
     },
     "execution_count": 25,
     "metadata": {},
     "output_type": "execute_result"
    }
   ],
   "source": [
    "file_p"
   ]
  },
  {
   "cell_type": "code",
   "execution_count": 26,
   "id": "fdf31b4f",
   "metadata": {},
   "outputs": [],
   "source": [
    "sentences = nltk.sent_tokenize(file_p)"
   ]
  },
  {
   "cell_type": "code",
   "execution_count": 27,
   "id": "a9f7ce34",
   "metadata": {},
   "outputs": [],
   "source": [
    "words = nltk.word_tokenize(file_p)"
   ]
  },
  {
   "cell_type": "code",
   "execution_count": 28,
   "id": "acd5f904",
   "metadata": {},
   "outputs": [],
   "source": [
    "unique_words = set(words)"
   ]
  },
  {
   "cell_type": "code",
   "execution_count": 29,
   "id": "af6a2065",
   "metadata": {},
   "outputs": [],
   "source": [
    "from nltk.util import ngrams"
   ]
  },
  {
   "cell_type": "code",
   "execution_count": 30,
   "id": "15e55471",
   "metadata": {},
   "outputs": [],
   "source": [
    "from nltk.corpus import stopwords"
   ]
  },
  {
   "cell_type": "code",
   "execution_count": 31,
   "id": "bf1ad3e1",
   "metadata": {},
   "outputs": [],
   "source": [
    "list_stop_words = stopwords.words('english')"
   ]
  },
  {
   "cell_type": "code",
   "execution_count": 32,
   "id": "dbf808d9",
   "metadata": {},
   "outputs": [
    {
     "data": {
      "text/plain": [
       "['i',\n",
       " 'me',\n",
       " 'my',\n",
       " 'myself',\n",
       " 'we',\n",
       " 'our',\n",
       " 'ours',\n",
       " 'ourselves',\n",
       " 'you',\n",
       " \"you're\",\n",
       " \"you've\",\n",
       " \"you'll\",\n",
       " \"you'd\",\n",
       " 'your',\n",
       " 'yours',\n",
       " 'yourself',\n",
       " 'yourselves',\n",
       " 'he',\n",
       " 'him',\n",
       " 'his',\n",
       " 'himself',\n",
       " 'she',\n",
       " \"she's\",\n",
       " 'her',\n",
       " 'hers',\n",
       " 'herself',\n",
       " 'it',\n",
       " \"it's\",\n",
       " 'its',\n",
       " 'itself',\n",
       " 'they',\n",
       " 'them',\n",
       " 'their',\n",
       " 'theirs',\n",
       " 'themselves',\n",
       " 'what',\n",
       " 'which',\n",
       " 'who',\n",
       " 'whom',\n",
       " 'this',\n",
       " 'that',\n",
       " \"that'll\",\n",
       " 'these',\n",
       " 'those',\n",
       " 'am',\n",
       " 'is',\n",
       " 'are',\n",
       " 'was',\n",
       " 'were',\n",
       " 'be',\n",
       " 'been',\n",
       " 'being',\n",
       " 'have',\n",
       " 'has',\n",
       " 'had',\n",
       " 'having',\n",
       " 'do',\n",
       " 'does',\n",
       " 'did',\n",
       " 'doing',\n",
       " 'a',\n",
       " 'an',\n",
       " 'the',\n",
       " 'and',\n",
       " 'but',\n",
       " 'if',\n",
       " 'or',\n",
       " 'because',\n",
       " 'as',\n",
       " 'until',\n",
       " 'while',\n",
       " 'of',\n",
       " 'at',\n",
       " 'by',\n",
       " 'for',\n",
       " 'with',\n",
       " 'about',\n",
       " 'against',\n",
       " 'between',\n",
       " 'into',\n",
       " 'through',\n",
       " 'during',\n",
       " 'before',\n",
       " 'after',\n",
       " 'above',\n",
       " 'below',\n",
       " 'to',\n",
       " 'from',\n",
       " 'up',\n",
       " 'down',\n",
       " 'in',\n",
       " 'out',\n",
       " 'on',\n",
       " 'off',\n",
       " 'over',\n",
       " 'under',\n",
       " 'again',\n",
       " 'further',\n",
       " 'then',\n",
       " 'once',\n",
       " 'here',\n",
       " 'there',\n",
       " 'when',\n",
       " 'where',\n",
       " 'why',\n",
       " 'how',\n",
       " 'all',\n",
       " 'any',\n",
       " 'both',\n",
       " 'each',\n",
       " 'few',\n",
       " 'more',\n",
       " 'most',\n",
       " 'other',\n",
       " 'some',\n",
       " 'such',\n",
       " 'no',\n",
       " 'nor',\n",
       " 'not',\n",
       " 'only',\n",
       " 'own',\n",
       " 'same',\n",
       " 'so',\n",
       " 'than',\n",
       " 'too',\n",
       " 'very',\n",
       " 's',\n",
       " 't',\n",
       " 'can',\n",
       " 'will',\n",
       " 'just',\n",
       " 'don',\n",
       " \"don't\",\n",
       " 'should',\n",
       " \"should've\",\n",
       " 'now',\n",
       " 'd',\n",
       " 'll',\n",
       " 'm',\n",
       " 'o',\n",
       " 're',\n",
       " 've',\n",
       " 'y',\n",
       " 'ain',\n",
       " 'aren',\n",
       " \"aren't\",\n",
       " 'couldn',\n",
       " \"couldn't\",\n",
       " 'didn',\n",
       " \"didn't\",\n",
       " 'doesn',\n",
       " \"doesn't\",\n",
       " 'hadn',\n",
       " \"hadn't\",\n",
       " 'hasn',\n",
       " \"hasn't\",\n",
       " 'haven',\n",
       " \"haven't\",\n",
       " 'isn',\n",
       " \"isn't\",\n",
       " 'ma',\n",
       " 'mightn',\n",
       " \"mightn't\",\n",
       " 'mustn',\n",
       " \"mustn't\",\n",
       " 'needn',\n",
       " \"needn't\",\n",
       " 'shan',\n",
       " \"shan't\",\n",
       " 'shouldn',\n",
       " \"shouldn't\",\n",
       " 'wasn',\n",
       " \"wasn't\",\n",
       " 'weren',\n",
       " \"weren't\",\n",
       " 'won',\n",
       " \"won't\",\n",
       " 'wouldn',\n",
       " \"wouldn't\"]"
      ]
     },
     "execution_count": 32,
     "metadata": {},
     "output_type": "execute_result"
    }
   ],
   "source": [
    "list_stop_words"
   ]
  },
  {
   "cell_type": "code",
   "execution_count": 33,
   "id": "192f5cde",
   "metadata": {},
   "outputs": [],
   "source": [
    "unigrams = []"
   ]
  },
  {
   "cell_type": "code",
   "execution_count": 34,
   "id": "2a950844",
   "metadata": {},
   "outputs": [],
   "source": [
    "for sentence in sentences:\n",
    "    sentence = sentence.lower()\n",
    "    word_sequence = word_tokenize(sentence)\n",
    "    for word in word_sequence:\n",
    "        if (word == '.'):\n",
    "            word_sequence.remove(word)\n",
    "        else:\n",
    "            unigrams.append(word)"
   ]
  },
  {
   "cell_type": "code",
   "execution_count": 35,
   "id": "a87ddcf9",
   "metadata": {},
   "outputs": [],
   "source": [
    "frequency_unigrams = nltk.FreqDist(unigrams)"
   ]
  },
  {
   "cell_type": "code",
   "execution_count": 36,
   "id": "543334a0",
   "metadata": {},
   "outputs": [
    {
     "data": {
      "text/plain": [
       "FreqDist({})"
      ]
     },
     "execution_count": 36,
     "metadata": {},
     "output_type": "execute_result"
    }
   ],
   "source": [
    "frequency_unigrams"
   ]
  },
  {
   "cell_type": "code",
   "execution_count": 37,
   "id": "28980e55",
   "metadata": {},
   "outputs": [],
   "source": [
    "unigrams_vocabulary = set(unigrams)"
   ]
  },
  {
   "cell_type": "code",
   "execution_count": 38,
   "id": "3d60439c",
   "metadata": {},
   "outputs": [
    {
     "data": {
      "text/plain": [
       "set()"
      ]
     },
     "execution_count": 38,
     "metadata": {},
     "output_type": "execute_result"
    }
   ],
   "source": [
    "unigrams_vocabulary"
   ]
  },
  {
   "cell_type": "code",
   "execution_count": 39,
   "id": "2a20720f",
   "metadata": {},
   "outputs": [
    {
     "data": {
      "text/plain": [
       "dict_keys([])"
      ]
     },
     "execution_count": 39,
     "metadata": {},
     "output_type": "execute_result"
    }
   ],
   "source": [
    "frequency_unigrams.keys()"
   ]
  },
  {
   "cell_type": "code",
   "execution_count": 40,
   "id": "060ee70d",
   "metadata": {},
   "outputs": [
    {
     "data": {
      "text/plain": [
       "dict_values([])"
      ]
     },
     "execution_count": 40,
     "metadata": {},
     "output_type": "execute_result"
    }
   ],
   "source": [
    "frequency_unigrams.values()"
   ]
  },
  {
   "cell_type": "code",
   "execution_count": 41,
   "id": "e66bacd5",
   "metadata": {},
   "outputs": [
    {
     "name": "stdout",
     "output_type": "stream",
     "text": [
      "0\n"
     ]
    }
   ],
   "source": [
    "fuv = 0\n",
    "for each in frequency_unigrams.values():\n",
    "    fuv = frequency_unigrams.values()\n",
    "    fuv= fuv+1\n",
    "    \n",
    "print(fuv)    "
   ]
  },
  {
   "cell_type": "code",
   "execution_count": 42,
   "id": "5dd0dc9e",
   "metadata": {},
   "outputs": [],
   "source": [
    "for word in frequency_unigrams.keys():\n",
    "    print (word)"
   ]
  },
  {
   "cell_type": "code",
   "execution_count": 43,
   "id": "521ec990",
   "metadata": {},
   "outputs": [],
   "source": [
    "for word in frequency_unigrams.keys():\n",
    "    frequency_unigrams[word] += 1"
   ]
  },
  {
   "cell_type": "code",
   "execution_count": 44,
   "id": "452ccd8e",
   "metadata": {},
   "outputs": [
    {
     "data": {
      "text/plain": [
       "FreqDist({})"
      ]
     },
     "execution_count": 44,
     "metadata": {},
     "output_type": "execute_result"
    }
   ],
   "source": [
    "frequency_unigrams"
   ]
  },
  {
   "cell_type": "code",
   "execution_count": 45,
   "id": "52f55fa5",
   "metadata": {},
   "outputs": [
    {
     "data": {
      "text/plain": [
       "dict_values([])"
      ]
     },
     "execution_count": 45,
     "metadata": {},
     "output_type": "execute_result"
    }
   ],
   "source": [
    "frequency_unigrams.values()"
   ]
  },
  {
   "cell_type": "code",
   "execution_count": 46,
   "id": "d2f62c21",
   "metadata": {},
   "outputs": [],
   "source": [
    "probability_unigrams = {\"Word\":[], \"Probability\":[]}"
   ]
  },
  {
   "cell_type": "code",
   "execution_count": 47,
   "id": "a9b674ed",
   "metadata": {},
   "outputs": [
    {
     "data": {
      "text/plain": [
       "set()"
      ]
     },
     "execution_count": 47,
     "metadata": {},
     "output_type": "execute_result"
    }
   ],
   "source": [
    "unique_words"
   ]
  },
  {
   "cell_type": "code",
   "execution_count": 48,
   "id": "8a684a23",
   "metadata": {},
   "outputs": [],
   "source": [
    "total_freq = 0"
   ]
  },
  {
   "cell_type": "code",
   "execution_count": 49,
   "id": "9e09ea98",
   "metadata": {},
   "outputs": [],
   "source": [
    "for word in frequency_unigrams.keys():\n",
    "    total_freq += frequency_unigrams[word]"
   ]
  },
  {
   "cell_type": "code",
   "execution_count": 50,
   "id": "f13445d5",
   "metadata": {},
   "outputs": [
    {
     "data": {
      "text/plain": [
       "0"
      ]
     },
     "execution_count": 50,
     "metadata": {},
     "output_type": "execute_result"
    }
   ],
   "source": [
    "total_freq"
   ]
  },
  {
   "cell_type": "code",
   "execution_count": null,
   "id": "9571be3a",
   "metadata": {},
   "outputs": [],
   "source": []
  },
  {
   "cell_type": "code",
   "execution_count": 51,
   "id": "65c26f0b",
   "metadata": {},
   "outputs": [],
   "source": [
    "for word in frequency_unigrams.keys():\n",
    "    probability = (frequency_unigrams[word]/(total_freq + len(unigrams_vocabulary)))\n",
    "    probability_unigrams[\"Word\"].append(word)\n",
    "    probability_unigrams[\"Probability\"].append(probability)"
   ]
  },
  {
   "cell_type": "code",
   "execution_count": 52,
   "id": "179f983d",
   "metadata": {},
   "outputs": [
    {
     "data": {
      "text/plain": [
       "{'Word': [], 'Probability': []}"
      ]
     },
     "execution_count": 52,
     "metadata": {},
     "output_type": "execute_result"
    }
   ],
   "source": [
    "probability_unigrams"
   ]
  },
  {
   "cell_type": "code",
   "execution_count": 53,
   "id": "c6e55b41",
   "metadata": {},
   "outputs": [],
   "source": [
    "import pandas as pd"
   ]
  },
  {
   "cell_type": "code",
   "execution_count": 54,
   "id": "e6bb3e35",
   "metadata": {},
   "outputs": [
    {
     "data": {
      "text/html": [
       "<div>\n",
       "<style scoped>\n",
       "    .dataframe tbody tr th:only-of-type {\n",
       "        vertical-align: middle;\n",
       "    }\n",
       "\n",
       "    .dataframe tbody tr th {\n",
       "        vertical-align: top;\n",
       "    }\n",
       "\n",
       "    .dataframe thead th {\n",
       "        text-align: right;\n",
       "    }\n",
       "</style>\n",
       "<table border=\"1\" class=\"dataframe\">\n",
       "  <thead>\n",
       "    <tr style=\"text-align: right;\">\n",
       "      <th></th>\n",
       "      <th>id</th>\n",
       "      <th>link</th>\n",
       "      <th>content</th>\n",
       "      <th>date</th>\n",
       "      <th>retweets</th>\n",
       "      <th>favorites</th>\n",
       "      <th>mentions</th>\n",
       "      <th>hashtags</th>\n",
       "    </tr>\n",
       "  </thead>\n",
       "  <tbody>\n",
       "    <tr>\n",
       "      <th>0</th>\n",
       "      <td>1698308935</td>\n",
       "      <td>https://twitter.com/realDonaldTrump/status/169...</td>\n",
       "      <td>Be sure to tune in and watch Donald Trump on L...</td>\n",
       "      <td>2009-05-04 13:54:25</td>\n",
       "      <td>510</td>\n",
       "      <td>917</td>\n",
       "      <td>NaN</td>\n",
       "      <td>NaN</td>\n",
       "    </tr>\n",
       "    <tr>\n",
       "      <th>1</th>\n",
       "      <td>1701461182</td>\n",
       "      <td>https://twitter.com/realDonaldTrump/status/170...</td>\n",
       "      <td>Donald Trump will be appearing on The View tom...</td>\n",
       "      <td>2009-05-04 20:00:10</td>\n",
       "      <td>34</td>\n",
       "      <td>267</td>\n",
       "      <td>NaN</td>\n",
       "      <td>NaN</td>\n",
       "    </tr>\n",
       "    <tr>\n",
       "      <th>2</th>\n",
       "      <td>1737479987</td>\n",
       "      <td>https://twitter.com/realDonaldTrump/status/173...</td>\n",
       "      <td>Donald Trump reads Top Ten Financial Tips on L...</td>\n",
       "      <td>2009-05-08 08:38:08</td>\n",
       "      <td>13</td>\n",
       "      <td>19</td>\n",
       "      <td>NaN</td>\n",
       "      <td>NaN</td>\n",
       "    </tr>\n",
       "    <tr>\n",
       "      <th>3</th>\n",
       "      <td>1741160716</td>\n",
       "      <td>https://twitter.com/realDonaldTrump/status/174...</td>\n",
       "      <td>New Blog Post: Celebrity Apprentice Finale and...</td>\n",
       "      <td>2009-05-08 15:40:15</td>\n",
       "      <td>11</td>\n",
       "      <td>26</td>\n",
       "      <td>NaN</td>\n",
       "      <td>NaN</td>\n",
       "    </tr>\n",
       "    <tr>\n",
       "      <th>4</th>\n",
       "      <td>1773561338</td>\n",
       "      <td>https://twitter.com/realDonaldTrump/status/177...</td>\n",
       "      <td>\"My persona will never be that of a wallflower...</td>\n",
       "      <td>2009-05-12 09:07:28</td>\n",
       "      <td>1375</td>\n",
       "      <td>1945</td>\n",
       "      <td>NaN</td>\n",
       "      <td>NaN</td>\n",
       "    </tr>\n",
       "  </tbody>\n",
       "</table>\n",
       "</div>"
      ],
      "text/plain": [
       "           id                                               link  \\\n",
       "0  1698308935  https://twitter.com/realDonaldTrump/status/169...   \n",
       "1  1701461182  https://twitter.com/realDonaldTrump/status/170...   \n",
       "2  1737479987  https://twitter.com/realDonaldTrump/status/173...   \n",
       "3  1741160716  https://twitter.com/realDonaldTrump/status/174...   \n",
       "4  1773561338  https://twitter.com/realDonaldTrump/status/177...   \n",
       "\n",
       "                                             content                 date  \\\n",
       "0  Be sure to tune in and watch Donald Trump on L...  2009-05-04 13:54:25   \n",
       "1  Donald Trump will be appearing on The View tom...  2009-05-04 20:00:10   \n",
       "2  Donald Trump reads Top Ten Financial Tips on L...  2009-05-08 08:38:08   \n",
       "3  New Blog Post: Celebrity Apprentice Finale and...  2009-05-08 15:40:15   \n",
       "4  \"My persona will never be that of a wallflower...  2009-05-12 09:07:28   \n",
       "\n",
       "   retweets  favorites mentions hashtags  \n",
       "0       510        917      NaN      NaN  \n",
       "1        34        267      NaN      NaN  \n",
       "2        13         19      NaN      NaN  \n",
       "3        11         26      NaN      NaN  \n",
       "4      1375       1945      NaN      NaN  "
      ]
     },
     "execution_count": 54,
     "metadata": {},
     "output_type": "execute_result"
    }
   ],
   "source": [
    "import pandas as pd\n",
    "housing = pd.read_csv(\"realdonaldtrump.csv\")\n",
    "housing.head()"
   ]
  },
  {
   "cell_type": "code",
   "execution_count": 55,
   "id": "f743fa4c",
   "metadata": {},
   "outputs": [],
   "source": [
    "file_with_nl_removed = \"\"\n",
    "line_with_nl_removed = \"\"\n",
    "file_p = \"\"\n",
    "for line in housing:\n",
    "  line_with_nl_removed = line.replace(\"\\n\", \" \")\n",
    "  file_with_nl_removed += line_with_nl_removed\n",
    "file_p = \"\".join([char for char in file_with_nl_removed if char not in string.punctuation])"
   ]
  },
  {
   "cell_type": "code",
   "execution_count": 56,
   "id": "5a0cd22c",
   "metadata": {},
   "outputs": [
    {
     "data": {
      "text/plain": [
       "'idlinkcontentdateretweetsfavoritesmentionshashtags'"
      ]
     },
     "execution_count": 56,
     "metadata": {},
     "output_type": "execute_result"
    }
   ],
   "source": [
    "file_p"
   ]
  },
  {
   "cell_type": "code",
   "execution_count": null,
   "id": "ebe3b460",
   "metadata": {},
   "outputs": [],
   "source": []
  }
 ],
 "metadata": {
  "kernelspec": {
   "display_name": "Python 3",
   "language": "python",
   "name": "python3"
  },
  "language_info": {
   "codemirror_mode": {
    "name": "ipython",
    "version": 3
   },
   "file_extension": ".py",
   "mimetype": "text/x-python",
   "name": "python",
   "nbconvert_exporter": "python",
   "pygments_lexer": "ipython3",
   "version": "3.8.8"
  }
 },
 "nbformat": 4,
 "nbformat_minor": 5
}
